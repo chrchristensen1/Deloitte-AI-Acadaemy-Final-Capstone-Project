{
 "cells": [
  {
   "cell_type": "markdown",
   "metadata": {},
   "source": [
    "# Detecting Coronary Heart Disease in Adults Using a ML Classifier\n",
    "\n",
    "## Introduction\n",
    "Heart disease is the leading cause of death in the United States. It causes a significant loss of life, strain on the healthcare system and billions of dollars every year. Coronary Artery Disease (CAD) is the most common type of heart disease. Here we use data from the 2013-2014 National Health and Examination Survey (NHANES) and select features to train a machine learning model that will be able to detect the posible presence of CAD in adults. Three differint classification models are trained and to compare performance."
   ]
  },
  {
   "cell_type": "markdown",
   "metadata": {},
   "source": [
    "\n",
    "### Data Retreival and  Inital Set Up\n",
    "\n",
    "The data was retreived from the 2013-2014 NHANES Survey. Information about this data can be found [here](https://www.cdc.gov/nchs/data/nhanes/nhanes_13_14/2013-14_overview_brochure.pdf). The data is grouped into 5 main areas: Demographic Data, Dietary Data, Examination Data, Laboratory Data, Questionaire Data. Each was extracted and loaded into a SQlite Database as separate tables. The [variable descriptions](https://wwwn.cdc.gov/nchs/nhanes/continuousnhanes/default.aspx?BeginYear=2013) were scraped using python and saved in a separate database for easier data understanding and querying. The variable description database is located github in the [\"NHANES SQLite DBs\"](https://github.com/chrchristensen1/Deloitte-AI-Acadaemy-Final-Capstone-Project/tree/main/Data/NHANES%20SQLite%20DBs) folder.\n",
    "\n",
    "## Data Cleaning and Preparation for Modeling\n",
    "In this section the data is cleaned, manipulated, and prepared to be model ready.\n",
    "#### Imports and Dependencies\n",
    "Imports included many standard python libraries as well as many scikit-learn libraries."
   ]
  },
  {
   "cell_type": "code",
   "execution_count": 57,
   "metadata": {},
   "outputs": [],
   "source": [
    "#Importing necessary python libraries\n",
    "import sqlite3\n",
    "import pandas as pd\n",
    "import numpy as np\n",
    "from xgboost import XGBClassifier\n",
    "from sklearn.linear_model  import LogisticRegression\n",
    "from sklearn.tree import DecisionTreeClassifier\n",
    "from sklearn.ensemble import RandomForestClassifier\n",
    "from sklearn.preprocessing import MinMaxScaler\n",
    "from sklearn.model_selection import train_test_split, GridSearchCV, RandomizedSearchCV\n",
    "from sklearn.metrics import confusion_matrix, ConfusionMatrixDisplay, accuracy_score, fbeta_score, make_scorer\n",
    "import matplotlib.pyplot as plt\n",
    "from imblearn.over_sampling import SMOTE\n",
    "%matplotlib inline"
   ]
  },
  {
   "cell_type": "markdown",
   "metadata": {},
   "source": [
    "#### SQLite Database Connection and Data Queries\n",
    "Here the SQLite database is queried to retrieve the desired features. The [Variable Description Database](https://github.com/chrchristensen1/Deloitte-AI-Acadaemy-Final-Capstone-Project/blob/main/Data/NHANES%20SQLite%20DBs/2013-2014%20NHANES%20Survey%20Varible%20Lists.db) was queried prior to determine fields that could be used for modeling as well as the target feature. The fields that were included were basic demographic data as well as information that are considered risk factors for CAD such as Cholesterol, Smoking, Diabetes, a Sedentary lifestyle etc."
   ]
  },
  {
   "cell_type": "code",
   "execution_count": 58,
   "metadata": {},
   "outputs": [
    {
     "data": {
      "text/html": [
       "<div>\n",
       "<style scoped>\n",
       "    .dataframe tbody tr th:only-of-type {\n",
       "        vertical-align: middle;\n",
       "    }\n",
       "\n",
       "    .dataframe tbody tr th {\n",
       "        vertical-align: top;\n",
       "    }\n",
       "\n",
       "    .dataframe thead th {\n",
       "        text-align: right;\n",
       "    }\n",
       "</style>\n",
       "<table border=\"1\" class=\"dataframe\">\n",
       "  <thead>\n",
       "    <tr style=\"text-align: right;\">\n",
       "      <th></th>\n",
       "      <th>SEQN</th>\n",
       "      <th>RIDAGEYR</th>\n",
       "      <th>RIAGENDR</th>\n",
       "      <th>BMXHT</th>\n",
       "      <th>BMXWT</th>\n",
       "      <th>BMXBMI</th>\n",
       "      <th>RIDRETH1</th>\n",
       "      <th>BPXDI1</th>\n",
       "      <th>BPXDI2</th>\n",
       "      <th>BPXDI3</th>\n",
       "      <th>...</th>\n",
       "      <th>LBXTC</th>\n",
       "      <th>LBXTR</th>\n",
       "      <th>LBXSGL</th>\n",
       "      <th>MCQ300A</th>\n",
       "      <th>PAD680</th>\n",
       "      <th>SMQ040</th>\n",
       "      <th>SMQ020</th>\n",
       "      <th>DIQ010</th>\n",
       "      <th>MCQ160E</th>\n",
       "      <th>MCQ160C</th>\n",
       "    </tr>\n",
       "  </thead>\n",
       "  <tbody>\n",
       "    <tr>\n",
       "      <th>0</th>\n",
       "      <td>73557</td>\n",
       "      <td>69</td>\n",
       "      <td>1</td>\n",
       "      <td>171.3</td>\n",
       "      <td>78.3</td>\n",
       "      <td>26.7</td>\n",
       "      <td>4</td>\n",
       "      <td>72</td>\n",
       "      <td>76</td>\n",
       "      <td>74</td>\n",
       "      <td>...</td>\n",
       "      <td>167</td>\n",
       "      <td>None</td>\n",
       "      <td>554</td>\n",
       "      <td>2</td>\n",
       "      <td>600</td>\n",
       "      <td>3</td>\n",
       "      <td>1</td>\n",
       "      <td>1</td>\n",
       "      <td>2</td>\n",
       "      <td>2</td>\n",
       "    </tr>\n",
       "    <tr>\n",
       "      <th>1</th>\n",
       "      <td>73558</td>\n",
       "      <td>54</td>\n",
       "      <td>1</td>\n",
       "      <td>176.8</td>\n",
       "      <td>89.5</td>\n",
       "      <td>28.6</td>\n",
       "      <td>3</td>\n",
       "      <td>62</td>\n",
       "      <td>80</td>\n",
       "      <td>42</td>\n",
       "      <td>...</td>\n",
       "      <td>170</td>\n",
       "      <td>None</td>\n",
       "      <td>219</td>\n",
       "      <td>2</td>\n",
       "      <td>540</td>\n",
       "      <td>2</td>\n",
       "      <td>1</td>\n",
       "      <td>1</td>\n",
       "      <td>2</td>\n",
       "      <td>2</td>\n",
       "    </tr>\n",
       "    <tr>\n",
       "      <th>2</th>\n",
       "      <td>73559</td>\n",
       "      <td>72</td>\n",
       "      <td>1</td>\n",
       "      <td>175.3</td>\n",
       "      <td>88.9</td>\n",
       "      <td>28.9</td>\n",
       "      <td>3</td>\n",
       "      <td>90</td>\n",
       "      <td>76</td>\n",
       "      <td>80</td>\n",
       "      <td>...</td>\n",
       "      <td>126</td>\n",
       "      <td>51</td>\n",
       "      <td>183</td>\n",
       "      <td>1</td>\n",
       "      <td>300</td>\n",
       "      <td>3</td>\n",
       "      <td>1</td>\n",
       "      <td>1</td>\n",
       "      <td>2</td>\n",
       "      <td>2</td>\n",
       "    </tr>\n",
       "    <tr>\n",
       "      <th>3</th>\n",
       "      <td>73560</td>\n",
       "      <td>9</td>\n",
       "      <td>1</td>\n",
       "      <td>137.3</td>\n",
       "      <td>32.2</td>\n",
       "      <td>17.1</td>\n",
       "      <td>3</td>\n",
       "      <td>38</td>\n",
       "      <td>34</td>\n",
       "      <td>38</td>\n",
       "      <td>...</td>\n",
       "      <td>168</td>\n",
       "      <td>None</td>\n",
       "      <td>None</td>\n",
       "      <td>None</td>\n",
       "      <td>None</td>\n",
       "      <td>None</td>\n",
       "      <td>None</td>\n",
       "      <td>2</td>\n",
       "      <td>None</td>\n",
       "      <td>None</td>\n",
       "    </tr>\n",
       "    <tr>\n",
       "      <th>4</th>\n",
       "      <td>73561</td>\n",
       "      <td>73</td>\n",
       "      <td>2</td>\n",
       "      <td>162.4</td>\n",
       "      <td>52.0</td>\n",
       "      <td>19.7</td>\n",
       "      <td>3</td>\n",
       "      <td>86</td>\n",
       "      <td>88</td>\n",
       "      <td>86</td>\n",
       "      <td>...</td>\n",
       "      <td>201</td>\n",
       "      <td>75</td>\n",
       "      <td>104</td>\n",
       "      <td>1</td>\n",
       "      <td>480</td>\n",
       "      <td>None</td>\n",
       "      <td>2</td>\n",
       "      <td>2</td>\n",
       "      <td>2</td>\n",
       "      <td>2</td>\n",
       "    </tr>\n",
       "  </tbody>\n",
       "</table>\n",
       "<p>5 rows × 30 columns</p>\n",
       "</div>"
      ],
      "text/plain": [
       "    SEQN  RIDAGEYR  RIAGENDR  BMXHT  BMXWT BMXBMI  RIDRETH1 BPXDI1 BPXDI2  \\\n",
       "0  73557        69         1  171.3   78.3   26.7         4     72     76   \n",
       "1  73558        54         1  176.8   89.5   28.6         3     62     80   \n",
       "2  73559        72         1  175.3   88.9   28.9         3     90     76   \n",
       "3  73560         9         1  137.3   32.2   17.1         3     38     34   \n",
       "4  73561        73         2  162.4   52.0   19.7         3     86     88   \n",
       "\n",
       "  BPXDI3  ... LBXTC LBXTR LBXSGL MCQ300A PAD680 SMQ040 SMQ020  DIQ010 MCQ160E  \\\n",
       "0     74  ...   167  None    554       2    600      3      1       1       2   \n",
       "1     42  ...   170  None    219       2    540      2      1       1       2   \n",
       "2     80  ...   126    51    183       1    300      3      1       1       2   \n",
       "3     38  ...   168  None   None    None   None   None   None       2    None   \n",
       "4     86  ...   201    75    104       1    480   None      2       2       2   \n",
       "\n",
       "  MCQ160C  \n",
       "0       2  \n",
       "1       2  \n",
       "2       2  \n",
       "3    None  \n",
       "4       2  \n",
       "\n",
       "[5 rows x 30 columns]"
      ]
     },
     "execution_count": 58,
     "metadata": {},
     "output_type": "execute_result"
    }
   ],
   "source": [
    "# connect to SQlite NHANES DB and read in necessary data.\n",
    "con = sqlite3.connect(\"../data/NHANES SQLite DBs/2013-2014 NHANES Survey.db\")\n",
    "query = \"\"\"\n",
    "\n",
    "SELECT\n",
    "\n",
    "SEQN, RIDAGEYR, RIAGENDR, BMXHT, BMXWT, BMXBMI, RIDRETH1, BPXDI1, \n",
    "BPXDI2, BPXDI3, BPXDI4, BPXSY1, BPXSY2, BPXSY3, BPXSY4, BPXCHR,\n",
    "BPXPLS, BPXPULS, LBDHDD, LBDLDL, LBXTC, LBXTR, LBXSGL,\n",
    "MCQ300a, PAD680, SMQ040,SMQ020, DIQ010, MCQ160e, MCQ160c\n",
    "\n",
    "FROM demographic\n",
    "JOIN examination\n",
    "    USING(SEQN)\n",
    "JOIN labs\n",
    "    USING(SEQN)\n",
    "JOIN questionnaire\n",
    "    USING(SEQN)\n",
    ";\n",
    "\"\"\"\n",
    "cad_df = pd.read_sql(query, con)\n",
    "\n",
    "#Close SQLite DB connections\n",
    "con.close()\n",
    "\n",
    "#View DataFrame\n",
    "cad_df.head()"
   ]
  },
  {
   "cell_type": "markdown",
   "metadata": {},
   "source": [
    "#### Rename Columns\n",
    "Here the columns are renamed to be easier to work with them. This process was aided by the [variable description](https://github.com/chrchristensen1/Deloitte-AI-Acadaemy-Final-Capstone-Project/blob/main/Data/NHANES%20SQLite%20DBs/2013-2014%20NHANES%20Survey%20Varible%20Lists.db) database found in the github repository."
   ]
  },
  {
   "cell_type": "code",
   "execution_count": 59,
   "metadata": {
    "scrolled": true
   },
   "outputs": [
    {
     "data": {
      "text/html": [
       "<div>\n",
       "<style scoped>\n",
       "    .dataframe tbody tr th:only-of-type {\n",
       "        vertical-align: middle;\n",
       "    }\n",
       "\n",
       "    .dataframe tbody tr th {\n",
       "        vertical-align: top;\n",
       "    }\n",
       "\n",
       "    .dataframe thead th {\n",
       "        text-align: right;\n",
       "    }\n",
       "</style>\n",
       "<table border=\"1\" class=\"dataframe\">\n",
       "  <thead>\n",
       "    <tr style=\"text-align: right;\">\n",
       "      <th></th>\n",
       "      <th>SEQN</th>\n",
       "      <th>Age</th>\n",
       "      <th>Gender</th>\n",
       "      <th>HT</th>\n",
       "      <th>WT</th>\n",
       "      <th>BMI</th>\n",
       "      <th>Race</th>\n",
       "      <th>DBP_1</th>\n",
       "      <th>DBP_2</th>\n",
       "      <th>DBP_3</th>\n",
       "      <th>...</th>\n",
       "      <th>TC</th>\n",
       "      <th>TG</th>\n",
       "      <th>Glu</th>\n",
       "      <th>FH_MI</th>\n",
       "      <th>DTS</th>\n",
       "      <th>Smoker</th>\n",
       "      <th>Smoked_100</th>\n",
       "      <th>DM</th>\n",
       "      <th>MI</th>\n",
       "      <th>CAD</th>\n",
       "    </tr>\n",
       "  </thead>\n",
       "  <tbody>\n",
       "    <tr>\n",
       "      <th>0</th>\n",
       "      <td>73557</td>\n",
       "      <td>69</td>\n",
       "      <td>1</td>\n",
       "      <td>171.3</td>\n",
       "      <td>78.3</td>\n",
       "      <td>26.7</td>\n",
       "      <td>4</td>\n",
       "      <td>72</td>\n",
       "      <td>76</td>\n",
       "      <td>74</td>\n",
       "      <td>...</td>\n",
       "      <td>167</td>\n",
       "      <td>None</td>\n",
       "      <td>554</td>\n",
       "      <td>2</td>\n",
       "      <td>600</td>\n",
       "      <td>3</td>\n",
       "      <td>1</td>\n",
       "      <td>1</td>\n",
       "      <td>2</td>\n",
       "      <td>2</td>\n",
       "    </tr>\n",
       "    <tr>\n",
       "      <th>1</th>\n",
       "      <td>73558</td>\n",
       "      <td>54</td>\n",
       "      <td>1</td>\n",
       "      <td>176.8</td>\n",
       "      <td>89.5</td>\n",
       "      <td>28.6</td>\n",
       "      <td>3</td>\n",
       "      <td>62</td>\n",
       "      <td>80</td>\n",
       "      <td>42</td>\n",
       "      <td>...</td>\n",
       "      <td>170</td>\n",
       "      <td>None</td>\n",
       "      <td>219</td>\n",
       "      <td>2</td>\n",
       "      <td>540</td>\n",
       "      <td>2</td>\n",
       "      <td>1</td>\n",
       "      <td>1</td>\n",
       "      <td>2</td>\n",
       "      <td>2</td>\n",
       "    </tr>\n",
       "    <tr>\n",
       "      <th>2</th>\n",
       "      <td>73559</td>\n",
       "      <td>72</td>\n",
       "      <td>1</td>\n",
       "      <td>175.3</td>\n",
       "      <td>88.9</td>\n",
       "      <td>28.9</td>\n",
       "      <td>3</td>\n",
       "      <td>90</td>\n",
       "      <td>76</td>\n",
       "      <td>80</td>\n",
       "      <td>...</td>\n",
       "      <td>126</td>\n",
       "      <td>51</td>\n",
       "      <td>183</td>\n",
       "      <td>1</td>\n",
       "      <td>300</td>\n",
       "      <td>3</td>\n",
       "      <td>1</td>\n",
       "      <td>1</td>\n",
       "      <td>2</td>\n",
       "      <td>2</td>\n",
       "    </tr>\n",
       "    <tr>\n",
       "      <th>3</th>\n",
       "      <td>73560</td>\n",
       "      <td>9</td>\n",
       "      <td>1</td>\n",
       "      <td>137.3</td>\n",
       "      <td>32.2</td>\n",
       "      <td>17.1</td>\n",
       "      <td>3</td>\n",
       "      <td>38</td>\n",
       "      <td>34</td>\n",
       "      <td>38</td>\n",
       "      <td>...</td>\n",
       "      <td>168</td>\n",
       "      <td>None</td>\n",
       "      <td>None</td>\n",
       "      <td>None</td>\n",
       "      <td>None</td>\n",
       "      <td>None</td>\n",
       "      <td>None</td>\n",
       "      <td>2</td>\n",
       "      <td>None</td>\n",
       "      <td>None</td>\n",
       "    </tr>\n",
       "    <tr>\n",
       "      <th>4</th>\n",
       "      <td>73561</td>\n",
       "      <td>73</td>\n",
       "      <td>2</td>\n",
       "      <td>162.4</td>\n",
       "      <td>52.0</td>\n",
       "      <td>19.7</td>\n",
       "      <td>3</td>\n",
       "      <td>86</td>\n",
       "      <td>88</td>\n",
       "      <td>86</td>\n",
       "      <td>...</td>\n",
       "      <td>201</td>\n",
       "      <td>75</td>\n",
       "      <td>104</td>\n",
       "      <td>1</td>\n",
       "      <td>480</td>\n",
       "      <td>None</td>\n",
       "      <td>2</td>\n",
       "      <td>2</td>\n",
       "      <td>2</td>\n",
       "      <td>2</td>\n",
       "    </tr>\n",
       "  </tbody>\n",
       "</table>\n",
       "<p>5 rows × 30 columns</p>\n",
       "</div>"
      ],
      "text/plain": [
       "    SEQN  Age  Gender     HT    WT   BMI  Race DBP_1 DBP_2 DBP_3  ...   TC  \\\n",
       "0  73557   69       1  171.3  78.3  26.7     4    72    76    74  ...  167   \n",
       "1  73558   54       1  176.8  89.5  28.6     3    62    80    42  ...  170   \n",
       "2  73559   72       1  175.3  88.9  28.9     3    90    76    80  ...  126   \n",
       "3  73560    9       1  137.3  32.2  17.1     3    38    34    38  ...  168   \n",
       "4  73561   73       2  162.4  52.0  19.7     3    86    88    86  ...  201   \n",
       "\n",
       "     TG   Glu FH_MI   DTS Smoker Smoked_100  DM    MI   CAD  \n",
       "0  None   554     2   600      3          1   1     2     2  \n",
       "1  None   219     2   540      2          1   1     2     2  \n",
       "2    51   183     1   300      3          1   1     2     2  \n",
       "3  None  None  None  None   None       None   2  None  None  \n",
       "4    75   104     1   480   None          2   2     2     2  \n",
       "\n",
       "[5 rows x 30 columns]"
      ]
     },
     "execution_count": 59,
     "metadata": {},
     "output_type": "execute_result"
    }
   ],
   "source": [
    "# rename columns\n",
    "col_rename ={\n",
    "'RIDAGEYR': 'Age', 'RIAGENDR': 'Gender', 'BMXHT': 'HT', 'BMXWT': 'WT', 'BMXBMI': 'BMI','RIDRETH1': 'Race', \n",
    "'BPXDI1': 'DBP_1', 'BPXDI2': 'DBP_2', 'BPXDI3': 'DBP_3', 'BPXDI4': 'DBP_4', 'BPXSY1': 'SBP_1', 'BPXSY2': 'SBP_2', \n",
    "'BPXSY3': 'SBP_3', 'BPXSY4': 'SBP_4', 'BPXCHR': 'HR', 'BPXPLS': 'Pulse', 'BPXPULS': 'Arrhythmia', 'LBDHDD': 'HDL', \n",
    "'LBDLDL': 'LDL', 'LBXTC': 'TC', 'LBXTR': 'TG', 'LBXSGL': 'Glu', 'MCQ300A': 'FH_MI', 'PAD680': 'DTS',\n",
    "'SMQ040': 'Smoker', 'SMQ020': 'Smoked_100','DIQ010': 'DM', 'MCQ160E': 'MI', 'MCQ160C': 'CAD'\n",
    "}\n",
    "cad_df.rename(columns=col_rename, inplace=True)\n",
    "cad_df.head()"
   ]
  },
  {
   "cell_type": "markdown",
   "metadata": {},
   "source": [
    "#### Change Data Types\n",
    "The null values in these databases were \"None\" values rather than the Numpy \"NaN\" values making it difficult to to arithmetic manipulation without removing them prior. It was decided to change all \"None\" values to \"NaN\" values for easier manipulation."
   ]
  },
  {
   "cell_type": "code",
   "execution_count": 60,
   "metadata": {},
   "outputs": [
    {
     "data": {
      "text/html": [
       "<div>\n",
       "<style scoped>\n",
       "    .dataframe tbody tr th:only-of-type {\n",
       "        vertical-align: middle;\n",
       "    }\n",
       "\n",
       "    .dataframe tbody tr th {\n",
       "        vertical-align: top;\n",
       "    }\n",
       "\n",
       "    .dataframe thead th {\n",
       "        text-align: right;\n",
       "    }\n",
       "</style>\n",
       "<table border=\"1\" class=\"dataframe\">\n",
       "  <thead>\n",
       "    <tr style=\"text-align: right;\">\n",
       "      <th></th>\n",
       "      <th>SEQN</th>\n",
       "      <th>Age</th>\n",
       "      <th>Gender</th>\n",
       "      <th>HT</th>\n",
       "      <th>WT</th>\n",
       "      <th>BMI</th>\n",
       "      <th>Race</th>\n",
       "      <th>DBP_1</th>\n",
       "      <th>DBP_2</th>\n",
       "      <th>DBP_3</th>\n",
       "      <th>...</th>\n",
       "      <th>TC</th>\n",
       "      <th>TG</th>\n",
       "      <th>Glu</th>\n",
       "      <th>FH_MI</th>\n",
       "      <th>DTS</th>\n",
       "      <th>Smoker</th>\n",
       "      <th>Smoked_100</th>\n",
       "      <th>DM</th>\n",
       "      <th>MI</th>\n",
       "      <th>CAD</th>\n",
       "    </tr>\n",
       "  </thead>\n",
       "  <tbody>\n",
       "    <tr>\n",
       "      <th>0</th>\n",
       "      <td>73557.0</td>\n",
       "      <td>69.0</td>\n",
       "      <td>1.0</td>\n",
       "      <td>171.3</td>\n",
       "      <td>78.3</td>\n",
       "      <td>26.7</td>\n",
       "      <td>4.0</td>\n",
       "      <td>72.0</td>\n",
       "      <td>76.0</td>\n",
       "      <td>74.0</td>\n",
       "      <td>...</td>\n",
       "      <td>167.0</td>\n",
       "      <td>NaN</td>\n",
       "      <td>554.0</td>\n",
       "      <td>2.0</td>\n",
       "      <td>600.0</td>\n",
       "      <td>3.0</td>\n",
       "      <td>1.0</td>\n",
       "      <td>1.0</td>\n",
       "      <td>2.0</td>\n",
       "      <td>2.0</td>\n",
       "    </tr>\n",
       "    <tr>\n",
       "      <th>1</th>\n",
       "      <td>73558.0</td>\n",
       "      <td>54.0</td>\n",
       "      <td>1.0</td>\n",
       "      <td>176.8</td>\n",
       "      <td>89.5</td>\n",
       "      <td>28.6</td>\n",
       "      <td>3.0</td>\n",
       "      <td>62.0</td>\n",
       "      <td>80.0</td>\n",
       "      <td>42.0</td>\n",
       "      <td>...</td>\n",
       "      <td>170.0</td>\n",
       "      <td>NaN</td>\n",
       "      <td>219.0</td>\n",
       "      <td>2.0</td>\n",
       "      <td>540.0</td>\n",
       "      <td>2.0</td>\n",
       "      <td>1.0</td>\n",
       "      <td>1.0</td>\n",
       "      <td>2.0</td>\n",
       "      <td>2.0</td>\n",
       "    </tr>\n",
       "    <tr>\n",
       "      <th>2</th>\n",
       "      <td>73559.0</td>\n",
       "      <td>72.0</td>\n",
       "      <td>1.0</td>\n",
       "      <td>175.3</td>\n",
       "      <td>88.9</td>\n",
       "      <td>28.9</td>\n",
       "      <td>3.0</td>\n",
       "      <td>90.0</td>\n",
       "      <td>76.0</td>\n",
       "      <td>80.0</td>\n",
       "      <td>...</td>\n",
       "      <td>126.0</td>\n",
       "      <td>51.0</td>\n",
       "      <td>183.0</td>\n",
       "      <td>1.0</td>\n",
       "      <td>300.0</td>\n",
       "      <td>3.0</td>\n",
       "      <td>1.0</td>\n",
       "      <td>1.0</td>\n",
       "      <td>2.0</td>\n",
       "      <td>2.0</td>\n",
       "    </tr>\n",
       "    <tr>\n",
       "      <th>3</th>\n",
       "      <td>73560.0</td>\n",
       "      <td>9.0</td>\n",
       "      <td>1.0</td>\n",
       "      <td>137.3</td>\n",
       "      <td>32.2</td>\n",
       "      <td>17.1</td>\n",
       "      <td>3.0</td>\n",
       "      <td>38.0</td>\n",
       "      <td>34.0</td>\n",
       "      <td>38.0</td>\n",
       "      <td>...</td>\n",
       "      <td>168.0</td>\n",
       "      <td>NaN</td>\n",
       "      <td>NaN</td>\n",
       "      <td>NaN</td>\n",
       "      <td>NaN</td>\n",
       "      <td>NaN</td>\n",
       "      <td>NaN</td>\n",
       "      <td>2.0</td>\n",
       "      <td>NaN</td>\n",
       "      <td>NaN</td>\n",
       "    </tr>\n",
       "    <tr>\n",
       "      <th>4</th>\n",
       "      <td>73561.0</td>\n",
       "      <td>73.0</td>\n",
       "      <td>2.0</td>\n",
       "      <td>162.4</td>\n",
       "      <td>52.0</td>\n",
       "      <td>19.7</td>\n",
       "      <td>3.0</td>\n",
       "      <td>86.0</td>\n",
       "      <td>88.0</td>\n",
       "      <td>86.0</td>\n",
       "      <td>...</td>\n",
       "      <td>201.0</td>\n",
       "      <td>75.0</td>\n",
       "      <td>104.0</td>\n",
       "      <td>1.0</td>\n",
       "      <td>480.0</td>\n",
       "      <td>NaN</td>\n",
       "      <td>2.0</td>\n",
       "      <td>2.0</td>\n",
       "      <td>2.0</td>\n",
       "      <td>2.0</td>\n",
       "    </tr>\n",
       "  </tbody>\n",
       "</table>\n",
       "<p>5 rows × 30 columns</p>\n",
       "</div>"
      ],
      "text/plain": [
       "      SEQN   Age  Gender     HT    WT   BMI  Race  DBP_1  DBP_2  DBP_3  ...  \\\n",
       "0  73557.0  69.0     1.0  171.3  78.3  26.7   4.0   72.0   76.0   74.0  ...   \n",
       "1  73558.0  54.0     1.0  176.8  89.5  28.6   3.0   62.0   80.0   42.0  ...   \n",
       "2  73559.0  72.0     1.0  175.3  88.9  28.9   3.0   90.0   76.0   80.0  ...   \n",
       "3  73560.0   9.0     1.0  137.3  32.2  17.1   3.0   38.0   34.0   38.0  ...   \n",
       "4  73561.0  73.0     2.0  162.4  52.0  19.7   3.0   86.0   88.0   86.0  ...   \n",
       "\n",
       "      TC    TG    Glu  FH_MI    DTS  Smoker  Smoked_100   DM   MI  CAD  \n",
       "0  167.0   NaN  554.0    2.0  600.0     3.0         1.0  1.0  2.0  2.0  \n",
       "1  170.0   NaN  219.0    2.0  540.0     2.0         1.0  1.0  2.0  2.0  \n",
       "2  126.0  51.0  183.0    1.0  300.0     3.0         1.0  1.0  2.0  2.0  \n",
       "3  168.0   NaN    NaN    NaN    NaN     NaN         NaN  2.0  NaN  NaN  \n",
       "4  201.0  75.0  104.0    1.0  480.0     NaN         2.0  2.0  2.0  2.0  \n",
       "\n",
       "[5 rows x 30 columns]"
      ]
     },
     "execution_count": 60,
     "metadata": {},
     "output_type": "execute_result"
    }
   ],
   "source": [
    "#Replace none with NaN for easier manipulation\n",
    "cad_df.fillna(value=np.nan, inplace=True)\n",
    "\n",
    "#Convert to floats to allow for arithmetic with NaNs\n",
    "cad_df = cad_df.astype(float)\n",
    "cad_df.head()"
   ]
  },
  {
   "cell_type": "code",
   "execution_count": 61,
   "metadata": {},
   "outputs": [
    {
     "name": "stdout",
     "output_type": "stream",
     "text": [
      "<class 'pandas.core.frame.DataFrame'>\n",
      "RangeIndex: 9813 entries, 0 to 9812\n",
      "Data columns (total 30 columns):\n",
      " #   Column      Non-Null Count  Dtype  \n",
      "---  ------      --------------  -----  \n",
      " 0   SEQN        9813 non-null   float64\n",
      " 1   Age         9813 non-null   float64\n",
      " 2   Gender      9813 non-null   float64\n",
      " 3   HT          9067 non-null   float64\n",
      " 4   WT          9723 non-null   float64\n",
      " 5   BMI         9055 non-null   float64\n",
      " 6   Race        9813 non-null   float64\n",
      " 7   DBP_1       7172 non-null   float64\n",
      " 8   DBP_2       7409 non-null   float64\n",
      " 9   DBP_3       7408 non-null   float64\n",
      " 10  DBP_4       515 non-null    float64\n",
      " 11  SBP_1       7172 non-null   float64\n",
      " 12  SBP_2       7409 non-null   float64\n",
      " 13  SBP_3       7408 non-null   float64\n",
      " 14  SBP_4       515 non-null    float64\n",
      " 15  HR          1961 non-null   float64\n",
      " 16  Pulse       7549 non-null   float64\n",
      " 17  Arrhythmia  9511 non-null   float64\n",
      " 18  HDL         7624 non-null   float64\n",
      " 19  LDL         3105 non-null   float64\n",
      " 20  TC          7624 non-null   float64\n",
      " 21  TG          3146 non-null   float64\n",
      " 22  Glu         6553 non-null   float64\n",
      " 23  FH_MI       5588 non-null   float64\n",
      " 24  DTS         6941 non-null   float64\n",
      " 25  Smoker      2490 non-null   float64\n",
      " 26  Smoked_100  5924 non-null   float64\n",
      " 27  DM          9421 non-null   float64\n",
      " 28  MI          5588 non-null   float64\n",
      " 29  CAD         5588 non-null   float64\n",
      "dtypes: float64(30)\n",
      "memory usage: 2.2 MB\n"
     ]
    }
   ],
   "source": [
    "# View df.info to get a better understanding of the data\n",
    "cad_df.info()"
   ]
  },
  {
   "cell_type": "markdown",
   "metadata": {},
   "source": [
    "#### Age Selection for Easier Data Cleaning and Modeling\n",
    "Since coronary artery disease is an adult disease, it was determined to drop anyone that was not an adult. This also removed many of the null values, because many of the field were not applicable to younger individuals. In order to determine an age cutoff, a simple histogram of the age distribution was viewed. It appeared that the ages 21 and greater were more uniform, so 21 was chosen as the cutoff based on that criteria. It also seemed suitable because that is also the legal age to smoke cigarettes, which is one of the variables chosen for model training."
   ]
  },
  {
   "cell_type": "code",
   "execution_count": 62,
   "metadata": {},
   "outputs": [
    {
     "data": {
      "image/png": "[encoded data removed]",
      "text/plain": [
       "<Figure size 432x288 with 1 Axes>"
      ]
     },
     "metadata": {
      "needs_background": "light"
     },
     "output_type": "display_data"
    }
   ],
   "source": [
    "#Checking Age Distribution\n",
    "cad_df.Age.hist();"
   ]
  },
  {
   "cell_type": "code",
   "execution_count": 63,
   "metadata": {
    "scrolled": false
   },
   "outputs": [
    {
     "data": {
      "image/png": "[encoded data removed]",
      "text/plain": [
       "<Figure size 432x288 with 1 Axes>"
      ]
     },
     "metadata": {
      "needs_background": "light"
     },
     "output_type": "display_data"
    }
   ],
   "source": [
    "# Keeping individuals ages 21 and over. \n",
    "cad_df = cad_df[(cad_df.Age >= 21)]\n",
    "cad_df.Age.hist();"
   ]
  },
  {
   "cell_type": "code",
   "execution_count": 64,
   "metadata": {},
   "outputs": [
    {
     "data": {
      "text/plain": [
       "SEQN             0\n",
       "Age              0\n",
       "Gender           0\n",
       "HT              57\n",
       "WT              54\n",
       "BMI             67\n",
       "Race             0\n",
       "DBP_1          469\n",
       "DBP_2          286\n",
       "DBP_3          276\n",
       "DBP_4         5092\n",
       "SBP_1          469\n",
       "SBP_2          286\n",
       "SBP_3          276\n",
       "SBP_4         5092\n",
       "HR            5482\n",
       "Pulse          180\n",
       "Arrhythmia     179\n",
       "HDL            237\n",
       "LDL           3008\n",
       "TC             237\n",
       "TG            2968\n",
       "Glu            251\n",
       "FH_MI            0\n",
       "DTS              5\n",
       "Smoker        3076\n",
       "Smoked_100       0\n",
       "DM               0\n",
       "MI               0\n",
       "CAD              0\n",
       "dtype: int64"
      ]
     },
     "execution_count": 64,
     "metadata": {},
     "output_type": "execute_result"
    }
   ],
   "source": [
    "# Count of remaining null values.\n",
    "cad_df.isna().sum()"
   ]
  },
  {
   "cell_type": "markdown",
   "metadata": {},
   "source": [
    "### Data Manipulation\n",
    "In this section data is manipulated for more clarity and better modeling format.\n",
    "#### Combining Variables\n",
    "There were four differint blood pressure readings for both systolic blood pressure(SBP) and diastolic blood pressure(DPB). It was determined that the best course of action was to take the average of each reading and combine them into two columns, one for SBP and the other for DBP. This one remove many null values as well as simplify the data for modeling. This is also where the NaNs were useful rather than \"None\". NaNs allows you to take the average without it resulting as zero or undefined. \n",
    "\n",
    "It was also determined to subtract the HDL cholesterol from the the total cholesterol(TC). The original plan was to use LDL cholesterol as one feature and Triglycerides as another feature because high levels of LDL cholesterol and triglycerides are risk factors for CAD. However, for some reason there were a large number of missing values from those columns but not from the HDL and TC columns. It may have actually worked out better this way because TC - HDL, which is considered Non-HDL cholesterol is essentially LDL Cholesterol + Tryglycerides. This gives you basically the same information without the added columns.\n",
    "\n",
    "The old columns used for the calculations were dropped and the new ones added. Weight(WT) and Height(HT) were also dropped becuase the are both incorporated into BMI."
   ]
  },
  {
   "cell_type": "code",
   "execution_count": 65,
   "metadata": {
    "scrolled": true
   },
   "outputs": [
    {
     "data": {
      "text/html": [
       "<div>\n",
       "<style scoped>\n",
       "    .dataframe tbody tr th:only-of-type {\n",
       "        vertical-align: middle;\n",
       "    }\n",
       "\n",
       "    .dataframe tbody tr th {\n",
       "        vertical-align: top;\n",
       "    }\n",
       "\n",
       "    .dataframe thead th {\n",
       "        text-align: right;\n",
       "    }\n",
       "</style>\n",
       "<table border=\"1\" class=\"dataframe\">\n",
       "  <thead>\n",
       "    <tr style=\"text-align: right;\">\n",
       "      <th></th>\n",
       "      <th>Age</th>\n",
       "      <th>Gender</th>\n",
       "      <th>BMI</th>\n",
       "      <th>Race</th>\n",
       "      <th>Pulse</th>\n",
       "      <th>Arrhythmia</th>\n",
       "      <th>Glu</th>\n",
       "      <th>SBP</th>\n",
       "      <th>DBP</th>\n",
       "      <th>FH_MI</th>\n",
       "      <th>DTS</th>\n",
       "      <th>Smoker</th>\n",
       "      <th>Non_HDL</th>\n",
       "      <th>Smoked_100</th>\n",
       "      <th>DM</th>\n",
       "      <th>MI</th>\n",
       "      <th>CAD</th>\n",
       "    </tr>\n",
       "  </thead>\n",
       "  <tbody>\n",
       "    <tr>\n",
       "      <th>0</th>\n",
       "      <td>69.0</td>\n",
       "      <td>1.0</td>\n",
       "      <td>26.7</td>\n",
       "      <td>4.0</td>\n",
       "      <td>86.0</td>\n",
       "      <td>1.0</td>\n",
       "      <td>554.0</td>\n",
       "      <td>113.0</td>\n",
       "      <td>74.0</td>\n",
       "      <td>2.0</td>\n",
       "      <td>600.0</td>\n",
       "      <td>3.0</td>\n",
       "      <td>102.0</td>\n",
       "      <td>1.0</td>\n",
       "      <td>1.0</td>\n",
       "      <td>2.0</td>\n",
       "      <td>2.0</td>\n",
       "    </tr>\n",
       "    <tr>\n",
       "      <th>1</th>\n",
       "      <td>54.0</td>\n",
       "      <td>1.0</td>\n",
       "      <td>28.6</td>\n",
       "      <td>3.0</td>\n",
       "      <td>74.0</td>\n",
       "      <td>1.0</td>\n",
       "      <td>219.0</td>\n",
       "      <td>157.0</td>\n",
       "      <td>61.0</td>\n",
       "      <td>2.0</td>\n",
       "      <td>540.0</td>\n",
       "      <td>2.0</td>\n",
       "      <td>120.0</td>\n",
       "      <td>1.0</td>\n",
       "      <td>1.0</td>\n",
       "      <td>2.0</td>\n",
       "      <td>2.0</td>\n",
       "    </tr>\n",
       "    <tr>\n",
       "      <th>2</th>\n",
       "      <td>72.0</td>\n",
       "      <td>1.0</td>\n",
       "      <td>28.9</td>\n",
       "      <td>3.0</td>\n",
       "      <td>68.0</td>\n",
       "      <td>1.0</td>\n",
       "      <td>183.0</td>\n",
       "      <td>142.0</td>\n",
       "      <td>82.0</td>\n",
       "      <td>1.0</td>\n",
       "      <td>300.0</td>\n",
       "      <td>3.0</td>\n",
       "      <td>66.0</td>\n",
       "      <td>1.0</td>\n",
       "      <td>1.0</td>\n",
       "      <td>2.0</td>\n",
       "      <td>2.0</td>\n",
       "    </tr>\n",
       "    <tr>\n",
       "      <th>4</th>\n",
       "      <td>73.0</td>\n",
       "      <td>2.0</td>\n",
       "      <td>19.7</td>\n",
       "      <td>3.0</td>\n",
       "      <td>92.0</td>\n",
       "      <td>1.0</td>\n",
       "      <td>104.0</td>\n",
       "      <td>137.0</td>\n",
       "      <td>87.0</td>\n",
       "      <td>1.0</td>\n",
       "      <td>480.0</td>\n",
       "      <td>NaN</td>\n",
       "      <td>116.0</td>\n",
       "      <td>2.0</td>\n",
       "      <td>2.0</td>\n",
       "      <td>2.0</td>\n",
       "      <td>2.0</td>\n",
       "    </tr>\n",
       "    <tr>\n",
       "      <th>5</th>\n",
       "      <td>56.0</td>\n",
       "      <td>1.0</td>\n",
       "      <td>41.7</td>\n",
       "      <td>1.0</td>\n",
       "      <td>60.0</td>\n",
       "      <td>1.0</td>\n",
       "      <td>104.0</td>\n",
       "      <td>157.0</td>\n",
       "      <td>82.0</td>\n",
       "      <td>2.0</td>\n",
       "      <td>360.0</td>\n",
       "      <td>3.0</td>\n",
       "      <td>188.0</td>\n",
       "      <td>1.0</td>\n",
       "      <td>2.0</td>\n",
       "      <td>1.0</td>\n",
       "      <td>1.0</td>\n",
       "    </tr>\n",
       "  </tbody>\n",
       "</table>\n",
       "</div>"
      ],
      "text/plain": [
       "    Age  Gender   BMI  Race  Pulse  Arrhythmia    Glu    SBP   DBP  FH_MI  \\\n",
       "0  69.0     1.0  26.7   4.0   86.0         1.0  554.0  113.0  74.0    2.0   \n",
       "1  54.0     1.0  28.6   3.0   74.0         1.0  219.0  157.0  61.0    2.0   \n",
       "2  72.0     1.0  28.9   3.0   68.0         1.0  183.0  142.0  82.0    1.0   \n",
       "4  73.0     2.0  19.7   3.0   92.0         1.0  104.0  137.0  87.0    1.0   \n",
       "5  56.0     1.0  41.7   1.0   60.0         1.0  104.0  157.0  82.0    2.0   \n",
       "\n",
       "     DTS  Smoker  Non_HDL  Smoked_100   DM   MI  CAD  \n",
       "0  600.0     3.0    102.0         1.0  1.0  2.0  2.0  \n",
       "1  540.0     2.0    120.0         1.0  1.0  2.0  2.0  \n",
       "2  300.0     3.0     66.0         1.0  1.0  2.0  2.0  \n",
       "4  480.0     NaN    116.0         2.0  2.0  2.0  2.0  \n",
       "5  360.0     3.0    188.0         1.0  2.0  1.0  1.0  "
      ]
     },
     "execution_count": 65,
     "metadata": {},
     "output_type": "execute_result"
    }
   ],
   "source": [
    "#Obtaining average blood pressure\n",
    "avg_sys_bp = cad_df[['SBP_1', 'SBP_2', 'SBP_3', 'SBP_4']].mean(axis=1).round(0)\n",
    "avg_dia_bp = cad_df[['DBP_1', 'DBP_2', 'DBP_3', 'DBP_4']].mean(axis=1).round(0)\n",
    "\n",
    "\n",
    "#Obtaining column with just the non-HDL cholesterol\n",
    "non_hdl = cad_df['TC'] - cad_df['HDL']\n",
    "\n",
    "#Dropping unnecesary columns\n",
    "cad_df.drop(columns=['SBP_1', 'SBP_2', 'SBP_3', 'SBP_4', 'DBP_1', 'DBP_2', 'DBP_3', \n",
    "                       'DBP_4', 'HR', 'TC', 'TG', 'HDL', 'LDL', 'HT', 'WT', 'SEQN'], inplace=True)\n",
    "\n",
    "#Inserting new columns at specified locations\n",
    "cad_df.insert(7, 'SBP', avg_sys_bp)\n",
    "cad_df.insert(8, 'DBP', avg_dia_bp)\n",
    "cad_df.insert(12, 'Non_HDL', non_hdl)\n",
    "\n",
    "cad_df.head()"
   ]
  },
  {
   "cell_type": "markdown",
   "metadata": {},
   "source": [
    "#### Additional Rows Dropped\n",
    "Some of the variables had 9s included in them. Which signified \"not sure\". It was determined to drop these because 1.) I wanted only binary values. 2.) there were only a small number and 3.) if I am predicted whether or not someone has CAD, and they are not sure if they have it, it is not very helpful. So we dropped only variables that were marked as 9 \"Not Sure\""
   ]
  },
  {
   "cell_type": "code",
   "execution_count": 66,
   "metadata": {},
   "outputs": [
    {
     "data": {
      "text/plain": [
       "2.0    5243\n",
       "1.0     224\n",
       "9.0      15\n",
       "Name: CAD, dtype: int64"
      ]
     },
     "execution_count": 66,
     "metadata": {},
     "output_type": "execute_result"
    }
   ],
   "source": [
    "#Target feature value counts \n",
    "cad_df.CAD.value_counts()"
   ]
  },
  {
   "cell_type": "code",
   "execution_count": 67,
   "metadata": {
    "scrolled": true
   },
   "outputs": [
    {
     "data": {
      "text/plain": [
       "2.0    5113\n",
       "1.0     215\n",
       "Name: CAD, dtype: int64"
      ]
     },
     "execution_count": 67,
     "metadata": {},
     "output_type": "execute_result"
    }
   ],
   "source": [
    "# Droping all columns with code 9.0:\"Not Sure\"\n",
    "index9 = cad_df[(cad_df.DM == 9.0) | (cad_df.MI == 9.0) | (cad_df.CAD == 9.0) | (cad_df.FH_MI == 9.0)].index\n",
    "\n",
    "cad_df.drop(index9, inplace=True)\n",
    "cad_df.CAD.value_counts(dropna=False)"
   ]
  },
  {
   "cell_type": "markdown",
   "metadata": {},
   "source": [
    "### Changing values to only binary values of 1 and 0\n",
    "Foreasier intepretation and better modeling, all the categorical data (other than race), was changed to values of \"1\" and \"0\". \"1\" signifying that they are positive for that conditon and \"2\" signifying they are negative for that condition. (e.g CAD: \"1\" = diagnosed with CAD). For Gender, it just means they are \"Male\".\n",
    "#### Function to change values to 1 and 0\n",
    "To have cleaner, more efficient code, the process of changing the variables was performed using a function created for that purpose. The Function takes in a list of variables to be changed and keeps 1 the same (They have the condition) and changes all other values to 0."
   ]
  },
  {
   "cell_type": "code",
   "execution_count": 68,
   "metadata": {},
   "outputs": [],
   "source": [
    "#Function that changes all desired categorical data to a binary 1 and 0.\n",
    "def binaryinator(category_list):\n",
    "    \n",
    "    #Loop for categorical variable list\n",
    "    for cat in category_list:\n",
    "\n",
    "        # All variables not = 1.0 \"present\" will change to 0.0 \"not present\",\n",
    "        cad_df[cat].mask((cad_df[cat] != 1.0), 0.0, inplace=True)"
   ]
  },
  {
   "cell_type": "markdown",
   "metadata": {},
   "source": [
    "#### Manually Changing Variables to 1 and 0.\n",
    "Not all of the variables were able to be changed following the criteria described in the function. These remaining variables were changed each individaully according to the necessary criteria."
   ]
  },
  {
   "cell_type": "code",
   "execution_count": 69,
   "metadata": {},
   "outputs": [
    {
     "data": {
      "text/html": [
       "<div>\n",
       "<style scoped>\n",
       "    .dataframe tbody tr th:only-of-type {\n",
       "        vertical-align: middle;\n",
       "    }\n",
       "\n",
       "    .dataframe tbody tr th {\n",
       "        vertical-align: top;\n",
       "    }\n",
       "\n",
       "    .dataframe thead th {\n",
       "        text-align: right;\n",
       "    }\n",
       "</style>\n",
       "<table border=\"1\" class=\"dataframe\">\n",
       "  <thead>\n",
       "    <tr style=\"text-align: right;\">\n",
       "      <th></th>\n",
       "      <th>Age</th>\n",
       "      <th>Gender</th>\n",
       "      <th>BMI</th>\n",
       "      <th>Race</th>\n",
       "      <th>Pulse</th>\n",
       "      <th>Arrhythmia</th>\n",
       "      <th>Glu</th>\n",
       "      <th>SBP</th>\n",
       "      <th>DBP</th>\n",
       "      <th>FH_MI</th>\n",
       "      <th>DTS</th>\n",
       "      <th>Smoker</th>\n",
       "      <th>Non_HDL</th>\n",
       "      <th>Smoked_100</th>\n",
       "      <th>DM</th>\n",
       "      <th>MI</th>\n",
       "      <th>CAD</th>\n",
       "    </tr>\n",
       "  </thead>\n",
       "  <tbody>\n",
       "    <tr>\n",
       "      <th>0</th>\n",
       "      <td>69.0</td>\n",
       "      <td>1.0</td>\n",
       "      <td>26.7</td>\n",
       "      <td>4.0</td>\n",
       "      <td>86.0</td>\n",
       "      <td>0.0</td>\n",
       "      <td>554.0</td>\n",
       "      <td>113.0</td>\n",
       "      <td>74.0</td>\n",
       "      <td>0.0</td>\n",
       "      <td>600.0</td>\n",
       "      <td>0.0</td>\n",
       "      <td>102.0</td>\n",
       "      <td>1.0</td>\n",
       "      <td>1.0</td>\n",
       "      <td>0.0</td>\n",
       "      <td>0.0</td>\n",
       "    </tr>\n",
       "    <tr>\n",
       "      <th>1</th>\n",
       "      <td>54.0</td>\n",
       "      <td>1.0</td>\n",
       "      <td>28.6</td>\n",
       "      <td>3.0</td>\n",
       "      <td>74.0</td>\n",
       "      <td>0.0</td>\n",
       "      <td>219.0</td>\n",
       "      <td>157.0</td>\n",
       "      <td>61.0</td>\n",
       "      <td>0.0</td>\n",
       "      <td>540.0</td>\n",
       "      <td>1.0</td>\n",
       "      <td>120.0</td>\n",
       "      <td>1.0</td>\n",
       "      <td>1.0</td>\n",
       "      <td>0.0</td>\n",
       "      <td>0.0</td>\n",
       "    </tr>\n",
       "    <tr>\n",
       "      <th>2</th>\n",
       "      <td>72.0</td>\n",
       "      <td>1.0</td>\n",
       "      <td>28.9</td>\n",
       "      <td>3.0</td>\n",
       "      <td>68.0</td>\n",
       "      <td>0.0</td>\n",
       "      <td>183.0</td>\n",
       "      <td>142.0</td>\n",
       "      <td>82.0</td>\n",
       "      <td>1.0</td>\n",
       "      <td>300.0</td>\n",
       "      <td>0.0</td>\n",
       "      <td>66.0</td>\n",
       "      <td>1.0</td>\n",
       "      <td>1.0</td>\n",
       "      <td>0.0</td>\n",
       "      <td>0.0</td>\n",
       "    </tr>\n",
       "    <tr>\n",
       "      <th>4</th>\n",
       "      <td>73.0</td>\n",
       "      <td>0.0</td>\n",
       "      <td>19.7</td>\n",
       "      <td>3.0</td>\n",
       "      <td>92.0</td>\n",
       "      <td>0.0</td>\n",
       "      <td>104.0</td>\n",
       "      <td>137.0</td>\n",
       "      <td>87.0</td>\n",
       "      <td>1.0</td>\n",
       "      <td>480.0</td>\n",
       "      <td>NaN</td>\n",
       "      <td>116.0</td>\n",
       "      <td>2.0</td>\n",
       "      <td>0.0</td>\n",
       "      <td>0.0</td>\n",
       "      <td>0.0</td>\n",
       "    </tr>\n",
       "    <tr>\n",
       "      <th>5</th>\n",
       "      <td>56.0</td>\n",
       "      <td>1.0</td>\n",
       "      <td>41.7</td>\n",
       "      <td>1.0</td>\n",
       "      <td>60.0</td>\n",
       "      <td>0.0</td>\n",
       "      <td>104.0</td>\n",
       "      <td>157.0</td>\n",
       "      <td>82.0</td>\n",
       "      <td>0.0</td>\n",
       "      <td>360.0</td>\n",
       "      <td>0.0</td>\n",
       "      <td>188.0</td>\n",
       "      <td>1.0</td>\n",
       "      <td>0.0</td>\n",
       "      <td>1.0</td>\n",
       "      <td>1.0</td>\n",
       "    </tr>\n",
       "  </tbody>\n",
       "</table>\n",
       "</div>"
      ],
      "text/plain": [
       "    Age  Gender   BMI  Race  Pulse  Arrhythmia    Glu    SBP   DBP  FH_MI  \\\n",
       "0  69.0     1.0  26.7   4.0   86.0         0.0  554.0  113.0  74.0    0.0   \n",
       "1  54.0     1.0  28.6   3.0   74.0         0.0  219.0  157.0  61.0    0.0   \n",
       "2  72.0     1.0  28.9   3.0   68.0         0.0  183.0  142.0  82.0    1.0   \n",
       "4  73.0     0.0  19.7   3.0   92.0         0.0  104.0  137.0  87.0    1.0   \n",
       "5  56.0     1.0  41.7   1.0   60.0         0.0  104.0  157.0  82.0    0.0   \n",
       "\n",
       "     DTS  Smoker  Non_HDL  Smoked_100   DM   MI  CAD  \n",
       "0  600.0     0.0    102.0         1.0  1.0  0.0  0.0  \n",
       "1  540.0     1.0    120.0         1.0  1.0  0.0  0.0  \n",
       "2  300.0     0.0     66.0         1.0  1.0  0.0  0.0  \n",
       "4  480.0     NaN    116.0         2.0  0.0  0.0  0.0  \n",
       "5  360.0     0.0    188.0         1.0  0.0  1.0  1.0  "
      ]
     },
     "execution_count": 69,
     "metadata": {},
     "output_type": "execute_result"
    }
   ],
   "source": [
    "#Change categorical data to binary data of 1 and 0 (other than race)\n",
    "\n",
    "#Category variable list to enter into function.\n",
    "category_list=['CAD', 'MI', 'DM', 'Gender', 'FH_MI']\n",
    "\n",
    "#Function for binary categories\n",
    "binaryinator(category_list)\n",
    "\n",
    "#Other variables that need to be changed following other criteria\n",
    "\n",
    "#Changing Arrhythmia code 1.0 \"Regular Heartbeat\" to 0.0.\n",
    "cad_df.Arrhythmia.mask((cad_df.Arrhythmia == 1.0), 0.0, inplace=True)\n",
    "\n",
    "#Changing Arrhythmia code 2.0 \"Irregular Heartbeat\" to 1.0.\n",
    "cad_df.Arrhythmia.mask((cad_df.Arrhythmia == 2.0), 1.0, inplace=True)\n",
    "\n",
    "#Combining codes 1.0 and 2.0 from the \"Smoker\" column which are \"Smokes Everyday\" and \"Smokes Some Days\" to \"Smoker\" code of 1.0\n",
    "cad_df.Smoker.mask((cad_df['Smoker']== 2.0), 1.0, inplace=True)\n",
    "\n",
    "#Changing code 3.0 \"Smokes Not At All\" to \"Non-Smoker\" code of 0.0\n",
    "cad_df.Smoker.mask((cad_df['Smoker']== 3.0), 0.0, inplace=True)\n",
    "\n",
    "cad_df.head()"
   ]
  },
  {
   "cell_type": "code",
   "execution_count": 70,
   "metadata": {
    "scrolled": false
   },
   "outputs": [
    {
     "data": {
      "text/plain": [
       "Age              0\n",
       "Gender           0\n",
       "BMI             60\n",
       "Race             0\n",
       "Pulse          169\n",
       "Arrhythmia     168\n",
       "Glu            240\n",
       "SBP            179\n",
       "DBP            179\n",
       "FH_MI            0\n",
       "DTS              5\n",
       "Smoker        3000\n",
       "Non_HDL        226\n",
       "Smoked_100       0\n",
       "DM               0\n",
       "MI               0\n",
       "CAD              0\n",
       "dtype: int64"
      ]
     },
     "execution_count": 70,
     "metadata": {},
     "output_type": "execute_result"
    }
   ],
   "source": [
    "#Count of remaining null values to be adressed.\n",
    "cad_df.isna().sum()"
   ]
  },
  {
   "cell_type": "markdown",
   "metadata": {},
   "source": [
    "### Imputation of Null Values\n",
    "All the remaining null values with the exception of the \"smoker\" column and \"Arrythmia\" were imputed by taking the mean value of each column based on whether they were male or female and whether they had CAD or not. The Gender was performed separately to account for any differences between them and the mean values for CAD positive and negative individuals was done differently to make a more realistic value to possible result in better model performance. \n",
    "#### Imputing the means using a function\n",
    "A function was created with a forward loop to make this process easier, cleaner, and more efficient. The function takes in a list with the desired variables to be imputed with the mean values."
   ]
  },
  {
   "cell_type": "code",
   "execution_count": 71,
   "metadata": {},
   "outputs": [],
   "source": [
    "def cad_mean_imputer(var_list):\n",
    "    \n",
    "    #for loop to loop through list of variables to be imputed\n",
    "    for var in var_list:\n",
    "        \n",
    "        #Filters for imputing mean values based on gender and presence of CAD\n",
    "        male_CAD =  (cad_df.CAD == 1.0) & (cad_df.Gender == 1.0)\n",
    "        male_noCAD = (cad_df.CAD == 0.0) & (cad_df.Gender == 1.0)\n",
    "        female_CAD =  (cad_df.CAD == 1.0) & (cad_df.Gender == 0.0)\n",
    "        female_noCAD = (cad_df.CAD == 0.0) & (cad_df.Gender == 0.0)\n",
    "        \n",
    "        #Determine mean values using above filters\n",
    "        avg_male_CAD = cad_df[male_CAD][var].mean().round(1)\n",
    "        avg_male_noCAD = cad_df[male_noCAD][var].mean().round(1)\n",
    "        avg_female_CAD = cad_df[female_CAD][var].mean().round(1)\n",
    "        avg_female_noCAD = cad_df[female_noCAD][var].mean().round(1)\n",
    "        \n",
    "        #Impute mean vales\n",
    "        cad_df[var].mask(male_CAD & (cad_df[var].isna()), avg_male_CAD, inplace=True)\n",
    "        cad_df[var].mask(male_noCAD & (cad_df[var].isna()), avg_male_noCAD, inplace=True)\n",
    "        cad_df[var].mask(female_CAD & (cad_df[var].isna()), avg_female_CAD, inplace=True)\n",
    "        cad_df[var].mask(female_noCAD & (cad_df[var].isna()), avg_female_noCAD, inplace=True)"
   ]
  },
  {
   "cell_type": "code",
   "execution_count": 72,
   "metadata": {},
   "outputs": [
    {
     "data": {
      "text/plain": [
       "Age              0\n",
       "Gender           0\n",
       "BMI              0\n",
       "Race             0\n",
       "Pulse            0\n",
       "Arrhythmia     168\n",
       "Glu              0\n",
       "SBP              0\n",
       "DBP              0\n",
       "FH_MI            0\n",
       "DTS              0\n",
       "Smoker        3000\n",
       "Non_HDL          0\n",
       "Smoked_100       0\n",
       "DM               0\n",
       "MI               0\n",
       "CAD              0\n",
       "dtype: int64"
      ]
     },
     "execution_count": 72,
     "metadata": {},
     "output_type": "execute_result"
    }
   ],
   "source": [
    "# list of variables to impute \n",
    "var_list = ['BMI', 'SBP', 'DBP', 'Pulse', 'Glu', 'Non_HDL', 'DTS']\n",
    "\n",
    "# Imputer function\n",
    "cad_mean_imputer(var_list)\n",
    "\n",
    "# Check number of null values remaining.\n",
    "cad_df.isna().sum()"
   ]
  },
  {
   "cell_type": "markdown",
   "metadata": {},
   "source": [
    "#### Imputing \"Non-smoker\" into the \"Smoker\" Column Using the \"Smoked_100 column\"\n",
    "There were two columns that were related to smoking: \"Smoker\", and \"Smoked_100\". Both columns came from the questionairre data. The smoker column essentially asked them whether they considered themselves a \"Smoker\" or \"Non-Smoker\". The \"smoked_100\" column asked them whether they smoked more than 100 cigarettes in their lifetime. There were many missing values in the smoker column and so the smoked \"Smoked_100\" column was used to infer that if a person had smoked less the 100 cigarettes in there lifetime, they were probably a \"Non-smoker\". Therefore all of the null values in the \"Smoker\" column were imputed as \"non-smoker\" for those people who said the smoked less than 100 cigarettes in their lifetime. The \"Smoked_100\" column was then no longer need and dropped. After this adjustment. There were only 2 null values remaining in the \"Smoker\" column. Therefore, they were simply dropped as well."
   ]
  },
  {
   "cell_type": "code",
   "execution_count": 73,
   "metadata": {},
   "outputs": [],
   "source": [
    "# imputing \"Non-Smoker\" (code 0.0) for null values in the \"Smoker\" column by using the \"Smoked_100\" column \n",
    "# for individuals who reported smoking less than 100 cigarettes in there lifetime.\n",
    "cad_df.Smoker.mask((cad_df['Smoker'].isna()) & (cad_df['Smoked_100'] == 2.0), 0.0, inplace=True, axis=0)\n",
    "\n",
    "#Dropping \"Smoked_100\" column\n",
    "cad_df.drop(columns=['Smoked_100'], inplace=True)"
   ]
  },
  {
   "cell_type": "code",
   "execution_count": 74,
   "metadata": {
    "scrolled": false
   },
   "outputs": [
    {
     "data": {
      "text/plain": [
       "Age             0\n",
       "Gender          0\n",
       "BMI             0\n",
       "Race            0\n",
       "Pulse           0\n",
       "Arrhythmia    168\n",
       "Glu             0\n",
       "SBP             0\n",
       "DBP             0\n",
       "FH_MI           0\n",
       "DTS             0\n",
       "Smoker          2\n",
       "Non_HDL         0\n",
       "DM              0\n",
       "MI              0\n",
       "CAD             0\n",
       "dtype: int64"
      ]
     },
     "execution_count": 74,
     "metadata": {},
     "output_type": "execute_result"
    }
   ],
   "source": [
    "#Checking Remaining Null Value Counts\n",
    "cad_df.isna().sum()"
   ]
  },
  {
   "cell_type": "code",
   "execution_count": 75,
   "metadata": {},
   "outputs": [],
   "source": [
    "# imputing remaining two nulls as \"non-smoker\"\n",
    "cad_df.Smoker = cad_df.Smoker.fillna(0.0)"
   ]
  },
  {
   "cell_type": "markdown",
   "metadata": {},
   "source": [
    "#### Imputing \"Regular Pulse\" for Null Values in the \"Arrhthmia\" Column\n",
    "The only remaining columns with null values was the \"Arththmia\" column. Which reports whether the individual has an Irregular pulse or not. Because it is categorical, you cannot impute it with a mean value. The Null values were therore imputed as \"Regular Pulse\" because that is the majority class and the odds are in favor of a \"Regular Pulse\""
   ]
  },
  {
   "cell_type": "code",
   "execution_count": 76,
   "metadata": {},
   "outputs": [],
   "source": [
    "#Imputing null Values for Arrythmia column as 0.0\n",
    "cad_df.Arrhythmia = cad_df.Arrhythmia.fillna(0.0)"
   ]
  },
  {
   "cell_type": "code",
   "execution_count": 77,
   "metadata": {
    "scrolled": true
   },
   "outputs": [
    {
     "data": {
      "text/plain": [
       "Age           0\n",
       "Gender        0\n",
       "BMI           0\n",
       "Race          0\n",
       "Pulse         0\n",
       "Arrhythmia    0\n",
       "Glu           0\n",
       "SBP           0\n",
       "DBP           0\n",
       "FH_MI         0\n",
       "DTS           0\n",
       "Smoker        0\n",
       "Non_HDL       0\n",
       "DM            0\n",
       "MI            0\n",
       "CAD           0\n",
       "dtype: int64"
      ]
     },
     "execution_count": 77,
     "metadata": {},
     "output_type": "execute_result"
    }
   ],
   "source": [
    "# Checking Null Value Counts\n",
    "cad_df.isna().sum()"
   ]
  },
  {
   "cell_type": "markdown",
   "metadata": {},
   "source": [
    "#### Changing Categorical Data Back to Integers\n",
    "The categorical data was changed backed to integers from floats to be a more clean binary value."
   ]
  },
  {
   "cell_type": "code",
   "execution_count": 78,
   "metadata": {
    "scrolled": false
   },
   "outputs": [
    {
     "name": "stdout",
     "output_type": "stream",
     "text": [
      "<class 'pandas.core.frame.DataFrame'>\n",
      "Int64Index: 5328 entries, 0 to 9810\n",
      "Data columns (total 16 columns):\n",
      " #   Column      Non-Null Count  Dtype  \n",
      "---  ------      --------------  -----  \n",
      " 0   Age         5328 non-null   int32  \n",
      " 1   Gender      5328 non-null   int32  \n",
      " 2   BMI         5328 non-null   float64\n",
      " 3   Race        5328 non-null   int32  \n",
      " 4   Pulse       5328 non-null   float64\n",
      " 5   Arrhythmia  5328 non-null   int32  \n",
      " 6   Glu         5328 non-null   float64\n",
      " 7   SBP         5328 non-null   float64\n",
      " 8   DBP         5328 non-null   float64\n",
      " 9   FH_MI       5328 non-null   int32  \n",
      " 10  DTS         5328 non-null   float64\n",
      " 11  Smoker      5328 non-null   int32  \n",
      " 12  Non_HDL     5328 non-null   float64\n",
      " 13  DM          5328 non-null   int32  \n",
      " 14  MI          5328 non-null   int32  \n",
      " 15  CAD         5328 non-null   int32  \n",
      "dtypes: float64(7), int32(9)\n",
      "memory usage: 520.3 KB\n"
     ]
    }
   ],
   "source": [
    "# Convert Data types back to integers for categorical variables\n",
    "int_columns = {'Age': int,\n",
    "               'Gender': int,\n",
    "               'Race': int,\n",
    "               'Arrhythmia': int,\n",
    "              'FH_MI': int,\n",
    "              'Smoker': int,\n",
    "              'DM': int,\n",
    "               'MI': int,\n",
    "              'CAD': int}\n",
    "cad_df = cad_df.astype(int_columns)\n",
    "cad_df.info()"
   ]
  },
  {
   "cell_type": "markdown",
   "metadata": {},
   "source": [
    "#### Encoding Race Column to Binary Categories\n",
    "All the categories of the \"Race\" column were transformed into binary values using the pandas.get_dummies() method in preparation for modeling."
   ]
  },
  {
   "cell_type": "code",
   "execution_count": 79,
   "metadata": {},
   "outputs": [
    {
     "data": {
      "text/html": [
       "<div>\n",
       "<style scoped>\n",
       "    .dataframe tbody tr th:only-of-type {\n",
       "        vertical-align: middle;\n",
       "    }\n",
       "\n",
       "    .dataframe tbody tr th {\n",
       "        vertical-align: top;\n",
       "    }\n",
       "\n",
       "    .dataframe thead th {\n",
       "        text-align: right;\n",
       "    }\n",
       "</style>\n",
       "<table border=\"1\" class=\"dataframe\">\n",
       "  <thead>\n",
       "    <tr style=\"text-align: right;\">\n",
       "      <th></th>\n",
       "      <th>Age</th>\n",
       "      <th>Gender</th>\n",
       "      <th>BMI</th>\n",
       "      <th>Pulse</th>\n",
       "      <th>Arrhythmia</th>\n",
       "      <th>Glu</th>\n",
       "      <th>SBP</th>\n",
       "      <th>DBP</th>\n",
       "      <th>FH_MI</th>\n",
       "      <th>DTS</th>\n",
       "      <th>Smoker</th>\n",
       "      <th>Non_HDL</th>\n",
       "      <th>DM</th>\n",
       "      <th>MI</th>\n",
       "      <th>CAD</th>\n",
       "      <th>Race_1</th>\n",
       "      <th>Race_2</th>\n",
       "      <th>Race_3</th>\n",
       "      <th>Race_4</th>\n",
       "      <th>Race_5</th>\n",
       "    </tr>\n",
       "  </thead>\n",
       "  <tbody>\n",
       "    <tr>\n",
       "      <th>0</th>\n",
       "      <td>69</td>\n",
       "      <td>1</td>\n",
       "      <td>26.7</td>\n",
       "      <td>86.0</td>\n",
       "      <td>0</td>\n",
       "      <td>554.0</td>\n",
       "      <td>113.0</td>\n",
       "      <td>74.0</td>\n",
       "      <td>0</td>\n",
       "      <td>600.0</td>\n",
       "      <td>0</td>\n",
       "      <td>102.0</td>\n",
       "      <td>1</td>\n",
       "      <td>0</td>\n",
       "      <td>0</td>\n",
       "      <td>0</td>\n",
       "      <td>0</td>\n",
       "      <td>0</td>\n",
       "      <td>1</td>\n",
       "      <td>0</td>\n",
       "    </tr>\n",
       "    <tr>\n",
       "      <th>1</th>\n",
       "      <td>54</td>\n",
       "      <td>1</td>\n",
       "      <td>28.6</td>\n",
       "      <td>74.0</td>\n",
       "      <td>0</td>\n",
       "      <td>219.0</td>\n",
       "      <td>157.0</td>\n",
       "      <td>61.0</td>\n",
       "      <td>0</td>\n",
       "      <td>540.0</td>\n",
       "      <td>1</td>\n",
       "      <td>120.0</td>\n",
       "      <td>1</td>\n",
       "      <td>0</td>\n",
       "      <td>0</td>\n",
       "      <td>0</td>\n",
       "      <td>0</td>\n",
       "      <td>1</td>\n",
       "      <td>0</td>\n",
       "      <td>0</td>\n",
       "    </tr>\n",
       "    <tr>\n",
       "      <th>2</th>\n",
       "      <td>72</td>\n",
       "      <td>1</td>\n",
       "      <td>28.9</td>\n",
       "      <td>68.0</td>\n",
       "      <td>0</td>\n",
       "      <td>183.0</td>\n",
       "      <td>142.0</td>\n",
       "      <td>82.0</td>\n",
       "      <td>1</td>\n",
       "      <td>300.0</td>\n",
       "      <td>0</td>\n",
       "      <td>66.0</td>\n",
       "      <td>1</td>\n",
       "      <td>0</td>\n",
       "      <td>0</td>\n",
       "      <td>0</td>\n",
       "      <td>0</td>\n",
       "      <td>1</td>\n",
       "      <td>0</td>\n",
       "      <td>0</td>\n",
       "    </tr>\n",
       "    <tr>\n",
       "      <th>4</th>\n",
       "      <td>73</td>\n",
       "      <td>0</td>\n",
       "      <td>19.7</td>\n",
       "      <td>92.0</td>\n",
       "      <td>0</td>\n",
       "      <td>104.0</td>\n",
       "      <td>137.0</td>\n",
       "      <td>87.0</td>\n",
       "      <td>1</td>\n",
       "      <td>480.0</td>\n",
       "      <td>0</td>\n",
       "      <td>116.0</td>\n",
       "      <td>0</td>\n",
       "      <td>0</td>\n",
       "      <td>0</td>\n",
       "      <td>0</td>\n",
       "      <td>0</td>\n",
       "      <td>1</td>\n",
       "      <td>0</td>\n",
       "      <td>0</td>\n",
       "    </tr>\n",
       "    <tr>\n",
       "      <th>5</th>\n",
       "      <td>56</td>\n",
       "      <td>1</td>\n",
       "      <td>41.7</td>\n",
       "      <td>60.0</td>\n",
       "      <td>0</td>\n",
       "      <td>104.0</td>\n",
       "      <td>157.0</td>\n",
       "      <td>82.0</td>\n",
       "      <td>0</td>\n",
       "      <td>360.0</td>\n",
       "      <td>0</td>\n",
       "      <td>188.0</td>\n",
       "      <td>0</td>\n",
       "      <td>1</td>\n",
       "      <td>1</td>\n",
       "      <td>1</td>\n",
       "      <td>0</td>\n",
       "      <td>0</td>\n",
       "      <td>0</td>\n",
       "      <td>0</td>\n",
       "    </tr>\n",
       "  </tbody>\n",
       "</table>\n",
       "</div>"
      ],
      "text/plain": [
       "   Age  Gender   BMI  Pulse  Arrhythmia    Glu    SBP   DBP  FH_MI    DTS  \\\n",
       "0   69       1  26.7   86.0           0  554.0  113.0  74.0      0  600.0   \n",
       "1   54       1  28.6   74.0           0  219.0  157.0  61.0      0  540.0   \n",
       "2   72       1  28.9   68.0           0  183.0  142.0  82.0      1  300.0   \n",
       "4   73       0  19.7   92.0           0  104.0  137.0  87.0      1  480.0   \n",
       "5   56       1  41.7   60.0           0  104.0  157.0  82.0      0  360.0   \n",
       "\n",
       "   Smoker  Non_HDL  DM  MI  CAD  Race_1  Race_2  Race_3  Race_4  Race_5  \n",
       "0       0    102.0   1   0    0       0       0       0       1       0  \n",
       "1       1    120.0   1   0    0       0       0       1       0       0  \n",
       "2       0     66.0   1   0    0       0       0       1       0       0  \n",
       "4       0    116.0   0   0    0       0       0       1       0       0  \n",
       "5       0    188.0   0   1    1       1       0       0       0       0  "
      ]
     },
     "execution_count": 79,
     "metadata": {},
     "output_type": "execute_result"
    }
   ],
   "source": [
    "#Encoding race categories to binary categories\n",
    "cad_df = pd.get_dummies(cad_df, columns=(['Race']))\n",
    "cad_df.head()"
   ]
  },
  {
   "cell_type": "markdown",
   "metadata": {},
   "source": [
    "## Model Training and Model Selection\n",
    "In this section model training and model selection is performed."
   ]
  },
  {
   "cell_type": "markdown",
   "metadata": {},
   "source": [
    "#### Defining the Training and Target Features"
   ]
  },
  {
   "cell_type": "code",
   "execution_count": 80,
   "metadata": {},
   "outputs": [
    {
     "data": {
      "text/html": [
       "<div>\n",
       "<style scoped>\n",
       "    .dataframe tbody tr th:only-of-type {\n",
       "        vertical-align: middle;\n",
       "    }\n",
       "\n",
       "    .dataframe tbody tr th {\n",
       "        vertical-align: top;\n",
       "    }\n",
       "\n",
       "    .dataframe thead th {\n",
       "        text-align: right;\n",
       "    }\n",
       "</style>\n",
       "<table border=\"1\" class=\"dataframe\">\n",
       "  <thead>\n",
       "    <tr style=\"text-align: right;\">\n",
       "      <th></th>\n",
       "      <th>Age</th>\n",
       "      <th>Gender</th>\n",
       "      <th>BMI</th>\n",
       "      <th>Pulse</th>\n",
       "      <th>Arrhythmia</th>\n",
       "      <th>Glu</th>\n",
       "      <th>SBP</th>\n",
       "      <th>DBP</th>\n",
       "      <th>FH_MI</th>\n",
       "      <th>DTS</th>\n",
       "      <th>Smoker</th>\n",
       "      <th>Non_HDL</th>\n",
       "      <th>DM</th>\n",
       "      <th>MI</th>\n",
       "      <th>Race_1</th>\n",
       "      <th>Race_2</th>\n",
       "      <th>Race_3</th>\n",
       "      <th>Race_4</th>\n",
       "      <th>Race_5</th>\n",
       "    </tr>\n",
       "  </thead>\n",
       "  <tbody>\n",
       "    <tr>\n",
       "      <th>0</th>\n",
       "      <td>69</td>\n",
       "      <td>1</td>\n",
       "      <td>26.7</td>\n",
       "      <td>86.0</td>\n",
       "      <td>0</td>\n",
       "      <td>554.0</td>\n",
       "      <td>113.0</td>\n",
       "      <td>74.0</td>\n",
       "      <td>0</td>\n",
       "      <td>600.0</td>\n",
       "      <td>0</td>\n",
       "      <td>102.0</td>\n",
       "      <td>1</td>\n",
       "      <td>0</td>\n",
       "      <td>0</td>\n",
       "      <td>0</td>\n",
       "      <td>0</td>\n",
       "      <td>1</td>\n",
       "      <td>0</td>\n",
       "    </tr>\n",
       "    <tr>\n",
       "      <th>1</th>\n",
       "      <td>54</td>\n",
       "      <td>1</td>\n",
       "      <td>28.6</td>\n",
       "      <td>74.0</td>\n",
       "      <td>0</td>\n",
       "      <td>219.0</td>\n",
       "      <td>157.0</td>\n",
       "      <td>61.0</td>\n",
       "      <td>0</td>\n",
       "      <td>540.0</td>\n",
       "      <td>1</td>\n",
       "      <td>120.0</td>\n",
       "      <td>1</td>\n",
       "      <td>0</td>\n",
       "      <td>0</td>\n",
       "      <td>0</td>\n",
       "      <td>1</td>\n",
       "      <td>0</td>\n",
       "      <td>0</td>\n",
       "    </tr>\n",
       "    <tr>\n",
       "      <th>2</th>\n",
       "      <td>72</td>\n",
       "      <td>1</td>\n",
       "      <td>28.9</td>\n",
       "      <td>68.0</td>\n",
       "      <td>0</td>\n",
       "      <td>183.0</td>\n",
       "      <td>142.0</td>\n",
       "      <td>82.0</td>\n",
       "      <td>1</td>\n",
       "      <td>300.0</td>\n",
       "      <td>0</td>\n",
       "      <td>66.0</td>\n",
       "      <td>1</td>\n",
       "      <td>0</td>\n",
       "      <td>0</td>\n",
       "      <td>0</td>\n",
       "      <td>1</td>\n",
       "      <td>0</td>\n",
       "      <td>0</td>\n",
       "    </tr>\n",
       "    <tr>\n",
       "      <th>4</th>\n",
       "      <td>73</td>\n",
       "      <td>0</td>\n",
       "      <td>19.7</td>\n",
       "      <td>92.0</td>\n",
       "      <td>0</td>\n",
       "      <td>104.0</td>\n",
       "      <td>137.0</td>\n",
       "      <td>87.0</td>\n",
       "      <td>1</td>\n",
       "      <td>480.0</td>\n",
       "      <td>0</td>\n",
       "      <td>116.0</td>\n",
       "      <td>0</td>\n",
       "      <td>0</td>\n",
       "      <td>0</td>\n",
       "      <td>0</td>\n",
       "      <td>1</td>\n",
       "      <td>0</td>\n",
       "      <td>0</td>\n",
       "    </tr>\n",
       "    <tr>\n",
       "      <th>5</th>\n",
       "      <td>56</td>\n",
       "      <td>1</td>\n",
       "      <td>41.7</td>\n",
       "      <td>60.0</td>\n",
       "      <td>0</td>\n",
       "      <td>104.0</td>\n",
       "      <td>157.0</td>\n",
       "      <td>82.0</td>\n",
       "      <td>0</td>\n",
       "      <td>360.0</td>\n",
       "      <td>0</td>\n",
       "      <td>188.0</td>\n",
       "      <td>0</td>\n",
       "      <td>1</td>\n",
       "      <td>1</td>\n",
       "      <td>0</td>\n",
       "      <td>0</td>\n",
       "      <td>0</td>\n",
       "      <td>0</td>\n",
       "    </tr>\n",
       "  </tbody>\n",
       "</table>\n",
       "</div>"
      ],
      "text/plain": [
       "   Age  Gender   BMI  Pulse  Arrhythmia    Glu    SBP   DBP  FH_MI    DTS  \\\n",
       "0   69       1  26.7   86.0           0  554.0  113.0  74.0      0  600.0   \n",
       "1   54       1  28.6   74.0           0  219.0  157.0  61.0      0  540.0   \n",
       "2   72       1  28.9   68.0           0  183.0  142.0  82.0      1  300.0   \n",
       "4   73       0  19.7   92.0           0  104.0  137.0  87.0      1  480.0   \n",
       "5   56       1  41.7   60.0           0  104.0  157.0  82.0      0  360.0   \n",
       "\n",
       "   Smoker  Non_HDL  DM  MI  Race_1  Race_2  Race_3  Race_4  Race_5  \n",
       "0       0    102.0   1   0       0       0       0       1       0  \n",
       "1       1    120.0   1   0       0       0       1       0       0  \n",
       "2       0     66.0   1   0       0       0       1       0       0  \n",
       "4       0    116.0   0   0       0       0       1       0       0  \n",
       "5       0    188.0   0   1       1       0       0       0       0  "
      ]
     },
     "execution_count": 80,
     "metadata": {},
     "output_type": "execute_result"
    }
   ],
   "source": [
    "# Define Target Variable\n",
    "y = cad_df.CAD\n",
    "\n",
    "# Drop Target Variable From Data\n",
    "X = cad_df.drop(columns=('CAD'))\n",
    "X.head()"
   ]
  },
  {
   "cell_type": "markdown",
   "metadata": {},
   "source": [
    "#### Train, Test Split and Smote\n",
    "The data was split into training and test sets prior to training the models. The data was also very imbalanced, therefore in order to address this, the synthetic minority oversampling technique (SMOTE) was used on the training data."
   ]
  },
  {
   "cell_type": "code",
   "execution_count": 81,
   "metadata": {
    "scrolled": true
   },
   "outputs": [
    {
     "name": "stdout",
     "output_type": "stream",
     "text": [
      "Minority Class before smote: 171\n",
      "Majority Class before smote: 3825\n",
      "Minority Class after smote: 3825\n",
      "Majority Class after smote: 3825\n"
     ]
    }
   ],
   "source": [
    "#Split Data into training and test sets\n",
    "X_train, X_test, y_train, y_test = train_test_split(X, y, random_state=42)\n",
    "\n",
    "#Balance data using the Synthetic Minority Oversampling Technique(SMOTE)\n",
    "smote = SMOTE()\n",
    "X_train_smote, y_train_smote,  = smote.fit_resample(X_train, y_train)\n",
    "\n",
    "#View changes due to smote\n",
    "print(f'Minority Class before smote: {y_train.value_counts().iloc[1]}')\n",
    "print(f'Majority Class before smote: {y_train.value_counts().iloc[0]}')\n",
    "print(f'Minority Class after smote: {y_train_smote.value_counts().iloc[1]}')\n",
    "print(f'Majority Class after smote: {y_train_smote.value_counts().iloc[0]}')"
   ]
  },
  {
   "cell_type": "markdown",
   "metadata": {},
   "source": [
    "### Initial Model Training and Model Comparisons\n",
    "Three differint model algorithms were used to train the data and compare the performance. They were as follows: A decision tree classifier, a random forest classifier, and an XGBoost classifier. The primary metric chosen to evalueate model performance was an F2 score. The F2 Score was chosen because of the imbalanced nature of the data, accuracy is not a great evaluator. Like the F1 score, F2 scores take into account both Precision and Recall but puts more weight on recall. Recall puts a greater emphasis on the number of false Negatives. This is important becase with health data, false negatives are usually the most detrimental(e.g. Model predicts CAD negative, when actually CAD positive). \n",
    "#### Functions Used to Train and Compare Models\n",
    "A function was created to train a generic model and return the performance scores for ease and efficiency. Another function was created that included the first function but looped through a dictionary of functions in order to compare all three functions in a quick, clean and efficient way."
   ]
  },
  {
   "cell_type": "code",
   "execution_count": 82,
   "metadata": {},
   "outputs": [],
   "source": [
    "#Function to automatically fits the model, makes predictions on the test data and evaluates the models performance.\n",
    "def cad_clf(classifier):\n",
    "    model = classifier\n",
    "    model.fit(X_train_smote, y_train_smote)\n",
    "    y_test_pred = model.predict(X_test)\n",
    "    y_train_pred = model.predict(X_train_smote)\n",
    "    acc_train = accuracy_score(y_train_smote, y_train_pred)*100\n",
    "    acc_test = accuracy_score(y_test, y_test_pred)*100\n",
    "    f2_train = fbeta_score(y_train_smote, y_train_pred, beta=2.0)*100\n",
    "    f2_test = fbeta_score(y_test, y_test_pred, beta=2.0)*100\n",
    "    cm = confusion_matrix(y_test, y_test_pred)\n",
    "    print(f'''Accuracy of Predictions on Training Data: {round(acc_train, 2)}\n",
    "Accuracy of Predictions on Test Data: {round(acc_test, 2)}\n",
    "                                 ''')\n",
    "    print(f'''F2 Score for Training Data: {round(f2_train, 2)}\n",
    "F2 Score for Test Data: {round(f2_test, 2)}\n",
    "                    ''')\n",
    "    print('Confusion Matrix Numbers for Test Data')\n",
    "    print(' ')\n",
    "    print(f'''True Negatives: {cm[0][0]}\n",
    "False Negatives: {cm[1][0]}\n",
    "False Positives: {cm[0][1]}\n",
    "True Positives: {cm[1][1]}\n",
    " ''')\n",
    "    cm_disp = ConfusionMatrixDisplay(confusion_matrix=cm)\n",
    "    cm_disp.plot()\n",
    "    plt.title(f'Confusion Matrix')\n",
    "    plt.show()"
   ]
  },
  {
   "cell_type": "code",
   "execution_count": 83,
   "metadata": {},
   "outputs": [],
   "source": [
    "#Function that takes in a classifie dictionary with the names as keys and classifiers as values to compare classifiers\n",
    "def cad_clf_compare(clf_dict):\n",
    "    classifiers = clf_dict\n",
    "    for i in range(len(clf_dict)):\n",
    "        print('---------------------------')\n",
    "        print(list(clf_dict.keys())[i])\n",
    "        print('---------------------------')\n",
    "        cad_clf(list(clf_dict.values())[i])"
   ]
  },
  {
   "cell_type": "markdown",
   "metadata": {},
   "source": [
    "#### Comparing Initial Model Performance\n",
    "The intial model results (No hyperparameter adjustments) usually put the XGBoost slightly ahead based on F2 Score (approx 27). "
   ]
  },
  {
   "cell_type": "code",
   "execution_count": 84,
   "metadata": {
    "scrolled": true
   },
   "outputs": [
    {
     "name": "stdout",
     "output_type": "stream",
     "text": [
      "---------------------------\n",
      "Decision Tree Classifier\n",
      "---------------------------\n",
      "Accuracy of Predictions on Training Data: 100.0\n",
      "Accuracy of Predictions on Test Data: 91.37\n",
      "                                 \n",
      "F2 Score for Training Data: 100.0\n",
      "F2 Score for Test Data: 31.8\n",
      "                    \n",
      "Confusion Matrix Numbers for Test Data\n",
      " \n",
      "True Negatives: 1199\n",
      "False Negatives: 26\n",
      "False Positives: 89\n",
      "True Positives: 18\n",
      " \n"
     ]
    },
    {
     "data": {
      "image/png": "[encoded data removed]",
      "text/plain": [
       "<Figure size 432x288 with 2 Axes>"
      ]
     },
     "metadata": {
      "needs_background": "light"
     },
     "output_type": "display_data"
    },
    {
     "name": "stdout",
     "output_type": "stream",
     "text": [
      "---------------------------\n",
      "Random Forest Classifier\n",
      "---------------------------\n",
      "Accuracy of Predictions on Training Data: 100.0\n",
      "Accuracy of Predictions on Test Data: 94.07\n",
      "                                 \n",
      "F2 Score for Training Data: 100.0\n",
      "F2 Score for Test Data: 23.61\n",
      "                    \n",
      "Confusion Matrix Numbers for Test Data\n",
      " \n",
      "True Negatives: 1242\n",
      "False Negatives: 33\n",
      "False Positives: 46\n",
      "True Positives: 11\n",
      " \n"
     ]
    },
    {
     "data": {
      "image/png": "[encoded data removed]",
      "text/plain": [
       "<Figure size 432x288 with 2 Axes>"
      ]
     },
     "metadata": {
      "needs_background": "light"
     },
     "output_type": "display_data"
    },
    {
     "name": "stdout",
     "output_type": "stream",
     "text": [
      "---------------------------\n",
      "XGBoost Classifier\n",
      "---------------------------\n",
      "Accuracy of Predictions on Training Data: 100.0\n",
      "Accuracy of Predictions on Test Data: 95.35\n",
      "                                 \n",
      "F2 Score for Training Data: 100.0\n",
      "F2 Score for Test Data: 29.55\n",
      "                    \n",
      "Confusion Matrix Numbers for Test Data\n",
      " \n",
      "True Negatives: 1257\n",
      "False Negatives: 31\n",
      "False Positives: 31\n",
      "True Positives: 13\n",
      " \n"
     ]
    },
    {
     "data": {
      "image/png": "[encoded data removed]",
      "text/plain": [
       "<Figure size 432x288 with 2 Axes>"
      ]
     },
     "metadata": {
      "needs_background": "light"
     },
     "output_type": "display_data"
    }
   ],
   "source": [
    "#Classifier Dictionary\n",
    "clf_dict = {'Decision Tree Classifier': DecisionTreeClassifier(), 'Random Forest Classifier': RandomForestClassifier(), 'XGBoost Classifier': XGBClassifier()}\n",
    "\n",
    "#Compare classifiers using function\n",
    "cad_clf_compare(clf_dict)"
   ]
  },
  {
   "cell_type": "markdown",
   "metadata": {},
   "source": [
    "### Feature Selection by Feature Importances\n",
    "After initial model results, feature selection was performed based on the feature importances method. \n",
    "#### Feature Importances Functions for Comparing Models\n",
    "As before, two functions were created for ease, code cleanliness, and efficieny. One to plot feature importances and one to compare models."
   ]
  },
  {
   "cell_type": "code",
   "execution_count": 85,
   "metadata": {},
   "outputs": [],
   "source": [
    "#Function to take in model and display the feature importances.\n",
    "def ftr_imp(model):\n",
    "    n_features = X_train_smote.shape[1]\n",
    "    plt.figure(figsize=(8,8))\n",
    "    plt.barh(range(n_features), model.feature_importances_, align='center') \n",
    "    plt.yticks(np.arange(n_features), X_train_smote.columns.values) \n",
    "    plt.xlabel('Feature importance')\n",
    "    plt.ylabel('Feature')\n",
    "    plt.show()"
   ]
  },
  {
   "cell_type": "code",
   "execution_count": 86,
   "metadata": {},
   "outputs": [],
   "source": [
    "#function that takes dictionary of models and compares them best on their feature importances.\n",
    "def ftr_imp_comp(clf_dict):\n",
    "    for i in range(len(clf_dict)):\n",
    "        print(f'                          {list(clf_dict.keys())[i]}')\n",
    "        ftr_imp(list(clf_dict.values())[i])\n",
    "        print('''          ----------------------------------------------------------\n",
    "        ''');"
   ]
  },
  {
   "cell_type": "code",
   "execution_count": 87,
   "metadata": {
    "scrolled": false
   },
   "outputs": [
    {
     "name": "stdout",
     "output_type": "stream",
     "text": [
      "                          Decision Tree Classifier\n"
     ]
    },
    {
     "data": {
      "image/png": "[encoded data removed]",
      "text/plain": [
       "<Figure size 576x576 with 1 Axes>"
      ]
     },
     "metadata": {
      "needs_background": "light"
     },
     "output_type": "display_data"
    },
    {
     "name": "stdout",
     "output_type": "stream",
     "text": [
      "          ----------------------------------------------------------\n",
      "        \n",
      "                          Random Forest Classifier\n"
     ]
    },
    {
     "data": {
      "image/png": "[encoded data removed]",
      "text/plain": [
       "<Figure size 576x576 with 1 Axes>"
      ]
     },
     "metadata": {
      "needs_background": "light"
     },
     "output_type": "display_data"
    },
    {
     "name": "stdout",
     "output_type": "stream",
     "text": [
      "          ----------------------------------------------------------\n",
      "        \n",
      "                          XGBoost Classifier\n"
     ]
    },
    {
     "data": {
      "image/png": "[encoded data removed]",
      "text/plain": [
       "<Figure size 576x576 with 1 Axes>"
      ]
     },
     "metadata": {
      "needs_background": "light"
     },
     "output_type": "display_data"
    },
    {
     "name": "stdout",
     "output_type": "stream",
     "text": [
      "          ----------------------------------------------------------\n",
      "        \n"
     ]
    }
   ],
   "source": [
    "#Use ftr_imp_comp model to compare feature importances of the three classifiers\n",
    "ftr_imp_comp(clf_dict)"
   ]
  },
  {
   "cell_type": "markdown",
   "metadata": {},
   "source": [
    "### Model Training and Model Comparisons on New Set of Features\n",
    "Based on the feature importance comparisons. It was determined to drop the following columns: DM (Diabetes), FH_MI(family history of miocardial infarction), Arrhythmia(irregular heartbeat), and Gender due to there low importance numbers across all models. All three models were then trained on the new data and compared. "
   ]
  },
  {
   "cell_type": "code",
   "execution_count": 88,
   "metadata": {},
   "outputs": [
    {
     "name": "stdout",
     "output_type": "stream",
     "text": [
      "---------------------------\n",
      "Decision Tree Classifier\n",
      "---------------------------\n",
      "Accuracy of Predictions on Training Data: 100.0\n",
      "Accuracy of Predictions on Test Data: 90.54\n",
      "                                 \n",
      "F2 Score for Training Data: 100.0\n",
      "F2 Score for Test Data: 32.09\n",
      "                    \n",
      "Confusion Matrix Numbers for Test Data\n",
      " \n",
      "True Negatives: 1187\n",
      "False Negatives: 25\n",
      "False Positives: 101\n",
      "True Positives: 19\n",
      " \n"
     ]
    },
    {
     "data": {
      "image/png": "[encoded data removed]",
      "text/plain": [
       "<Figure size 432x288 with 2 Axes>"
      ]
     },
     "metadata": {
      "needs_background": "light"
     },
     "output_type": "display_data"
    },
    {
     "name": "stdout",
     "output_type": "stream",
     "text": [
      "---------------------------\n",
      "Random Forest Classifier\n",
      "---------------------------\n",
      "Accuracy of Predictions on Training Data: 100.0\n",
      "Accuracy of Predictions on Test Data: 94.97\n",
      "                                 \n",
      "F2 Score for Training Data: 100.0\n",
      "F2 Score for Test Data: 40.08\n",
      "                    \n",
      "Confusion Matrix Numbers for Test Data\n",
      " \n",
      "True Negatives: 1246\n",
      "False Negatives: 25\n",
      "False Positives: 42\n",
      "True Positives: 19\n",
      " \n"
     ]
    },
    {
     "data": {
      "image/png": "[encoded data removed]",
      "text/plain": [
       "<Figure size 432x288 with 2 Axes>"
      ]
     },
     "metadata": {
      "needs_background": "light"
     },
     "output_type": "display_data"
    },
    {
     "name": "stdout",
     "output_type": "stream",
     "text": [
      "---------------------------\n",
      "XGBoost Classifier\n",
      "---------------------------\n",
      "Accuracy of Predictions on Training Data: 100.0\n",
      "Accuracy of Predictions on Test Data: 96.02\n",
      "                                 \n",
      "F2 Score for Training Data: 100.0\n",
      "F2 Score for Test Data: 32.86\n",
      "                    \n",
      "Confusion Matrix Numbers for Test Data\n",
      " \n",
      "True Negatives: 1265\n",
      "False Negatives: 30\n",
      "False Positives: 23\n",
      "True Positives: 14\n",
      " \n"
     ]
    },
    {
     "data": {
      "image/png": "[encoded data removed]",
      "text/plain": [
       "<Figure size 432x288 with 2 Axes>"
      ]
     },
     "metadata": {
      "needs_background": "light"
     },
     "output_type": "display_data"
    }
   ],
   "source": [
    "#Test Model Performance based on new features\n",
    "\n",
    "#drop columns based on feature importances results\n",
    "cad_df.drop(columns=(['DM', 'FH_MI', 'Arrhythmia', 'Gender']), inplace=True)\n",
    "\n",
    "# Define Target Variable\n",
    "y = cad_df.CAD\n",
    "\n",
    "# Drop Target Variable From Data\n",
    "X = cad_df.drop(columns=('CAD'))\n",
    "\n",
    "#Split Data into training and test sets\n",
    "X_train, X_test, y_train, y_test = train_test_split(X, y, random_state=42)\n",
    "\n",
    "#Balance data using the Synthetic Minority Oversampling Technique(SMOTE)\n",
    "smote = SMOTE()\n",
    "X_train_smote, y_train_smote,  = smote.fit_resample(X_train, y_train)\n",
    "\n",
    "#Use function to compare models based on new features\n",
    "cad_clf_compare(clf_dict)"
   ]
  },
  {
   "cell_type": "markdown",
   "metadata": {},
   "source": [
    "### Hyperparameter Optimization\n",
    "Based on the previous results. Random Forest had the highest F2 score and was chosen to have further hyperparameter adjustments in order to improve the F2 score and lower the rate of false negatives.\n",
    "#### RandomizedSearchCV Hyperparameter Optimization\n",
    "In order to efficientally select more optimal hyperparameter, RandomizedSearchCV was used. It was originally plan to us GridSearchCV but due to the time and resources required to use GridSearchCV, RandomizedSearchCV was chosen as the best alternative."
   ]
  },
  {
   "cell_type": "code",
   "execution_count": 89,
   "metadata": {},
   "outputs": [
    {
     "data": {
      "text/plain": [
       "{'n_estimators': 100,\n",
       " 'min_samples_split': 8,\n",
       " 'min_samples_leaf': 2,\n",
       " 'max_features': 'sqrt',\n",
       " 'max_depth': 16,\n",
       " 'criterion': 'entropy'}"
      ]
     },
     "execution_count": 89,
     "metadata": {},
     "output_type": "execute_result"
    }
   ],
   "source": [
    "#Perform a RandomizedSearchCV to find more optimal Hyperparameters Tuning\n",
    "\n",
    "#Make an f2 scorer to perform a randomizedSearchCV for hyperparameter tuning\n",
    "f2_scorer = make_scorer(fbeta_score, beta=2, greater_is_better = True)\n",
    "\n",
    "#define parameter criteria for RandomizedSearch CV\n",
    "param_grid = { \n",
    "    'criterion': ['gini', 'entropy'],\n",
    "    'n_estimators': range(50,150,25),\n",
    "    'max_depth': range(2,20,2),\n",
    "    'max_features': ['sqrt', 'log2'],\n",
    "    'min_samples_leaf': range(1,10,1),\n",
    "    'min_samples_split': range(2,10,1)\n",
    "}\n",
    "\n",
    "rf_rs_f2 = RandomizedSearchCV(estimator=RandomForestClassifier(),\n",
    "                 param_distributions=param_grid,\n",
    "                 n_iter=25,\n",
    "                 scoring=f2_scorer,\n",
    "                 random_state=42)\n",
    "\n",
    "# Perform the hyperparameter tuning with random search\n",
    "rf_rs_f2.fit(X_train_smote, y_train_smote)\n",
    "\n",
    "# List best parameter findings\n",
    "rf_rs_f2.best_params_"
   ]
  },
  {
   "cell_type": "markdown",
   "metadata": {},
   "source": [
    "### Final Model Results\n",
    "Hyperparameteroptimization was able to improve both the F2 score while minimizing the rate of False Positives. "
   ]
  },
  {
   "cell_type": "code",
   "execution_count": 37,
   "metadata": {
    "scrolled": false
   },
   "outputs": [
    {
     "name": "stdout",
     "output_type": "stream",
     "text": [
      "Accuracy of Predictions on Training Data: 98.58\n",
      "Accuracy of Predictions on Test Data: 93.24\n",
      "                                 \n",
      "F2 Score for Training Data: 98.95\n",
      "F2 Score for Test Data: 44.44\n",
      "                    \n",
      "Confusion Matrix Numbers for Test Data\n",
      " \n",
      "True Negatives: 1218\n",
      "False Negatives: 20\n",
      "False Positives: 70\n",
      "True Positives: 24\n",
      " \n"
     ]
    },
    {
     "data": {
      "image/png": "[encoded data removed]",
      "text/plain": [
       "<Figure size 432x288 with 2 Axes>"
      ]
     },
     "metadata": {
      "needs_background": "light"
     },
     "output_type": "display_data"
    }
   ],
   "source": [
    "#Define a classifier with the best parameters found in RandomizedSearchCV these parameters\n",
    "rf_hyp_opt = RandomForestClassifier(n_estimators=100, min_samples_split= 8, min_samples_leaf= 2, max_features='sqrt', max_depth=16, criterion='entropy')\n",
    "\n",
    "#Use training Function to fit and test new model.\n",
    "cad_clf(rf_hyp_opt)"
   ]
  },
  {
   "cell_type": "markdown",
   "metadata": {},
   "source": [
    "## Conclusion\n",
    "A Random Forest Classifier performed the best at minimizing the rate of false negatives while predicting the presence of coronary artert disease in adult patients using the NHANES data. The Final F2 Score came out to be about 44 with about 20 False negatives. Although there is still room for a better model performance. A Random Forest Classifier is a powerful way to detect the possible presence of coronary artery disease in adults, ultimately leading to more lives saved, less strain on the healthcare system and more money saved. "
   ]
  },
  {
   "cell_type": "code",
   "execution_count": null,
   "metadata": {},
   "outputs": [],
   "source": []
  }
 ],
 "metadata": {
  "kernelspec": {
   "display_name": "Python 3",
   "language": "python",
   "name": "python3"
  },
  "language_info": {
   "codemirror_mode": {
    "name": "ipython",
    "version": 3
   },
   "file_extension": ".py",
   "mimetype": "text/x-python",
   "name": "python",
   "nbconvert_exporter": "python",
   "pygments_lexer": "ipython3",
   "version": "3.8.5"
  }
 },
 "nbformat": 4,
 "nbformat_minor": 4
}
