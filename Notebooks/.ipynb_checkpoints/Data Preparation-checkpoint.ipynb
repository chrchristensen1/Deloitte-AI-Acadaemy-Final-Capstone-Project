{
 "cells": [
  {
   "cell_type": "code",
   "execution_count": 2,
   "metadata": {},
   "outputs": [],
   "source": [
    "#Importing necessary python libraries\n",
    "import sqlite3\n",
    "import pandas as pd\n",
    "import numpy as np\n",
    "import matplotlib.pyplot as plt\n",
    "%matplotlib inline"
   ]
  },
  {
   "cell_type": "code",
   "execution_count": 23,
   "metadata": {},
   "outputs": [],
   "source": [
    "con = sqlite3.connect(\"../data/2013-2014 NHANES Survey.db\")\n",
    "demo_df = pd.read_sql_query(\"SELECT * From demographic\", con)\n",
    "diet_df = pd.read_sql_query(\"SELECT * From diet\", con)\n",
    "exam_df = pd.read_sql_query(\"SELECT * From examination\", con)\n",
    "labs_df = pd.read_sql_query(\"SELECT * From labs\", con)\n",
    "meds_df = pd.read_sql_query(\"SELECT * From medications\", con)\n",
    "quest_df = pd.read_sql_query(\"SELECT * From questionnaire\", con)\n"
   ]
  },
  {
   "cell_type": "code",
   "execution_count": 27,
   "metadata": {},
   "outputs": [],
   "source": [
    "con2 = sqlite3.connect(\"../data/2013-2014 NHANES Survey Varible Lists.db\")\n",
    "demo_var = pd.read_sql_query(\"SELECT * From demographics_variable_list\", con2)\n",
    "diet_var = pd.read_sql_query(\"SELECT * From dietary_variable_list\", con2)\n",
    "exam_var = pd.read_sql_query(\"SELECT * From examination_variable_list\", con2)\n",
    "labs_var = pd.read_sql_query(\"SELECT * From laboratory_variable_list\", con2)\n",
    "quest_var = pd.read_sql_query(\"SELECT * From questionnaire_variable_list\", con2)\n"
   ]
  },
  {
   "cell_type": "code",
   "execution_count": 109,
   "metadata": {},
   "outputs": [],
   "source": [
    "#Function that easily identifies the description of a specific variable in one of the NHANES DataFrames above.\n",
    "\n",
    "def var_desc(df, var):\n",
    "    \"\"\"This function inputs:\n",
    "    1. A Dataframe from the NHANES survey entered as a string.\n",
    "    2. A variable entered as a string\n",
    "    It then returns the variable's description.\"\"\"\n",
    "    \n",
    "    if df == 'demo_df':\n",
    "        df = demo_var \n",
    "    elif df == 'diet_df':\n",
    "        df = diet_var\n",
    "    elif df == 'exam_df':\n",
    "        df = exam_var\n",
    "    elif df == 'labs_df':\n",
    "        df = labs_var\n",
    "    elif df == 'meds_df':\n",
    "        print('There is no variable information available for Medications')\n",
    "    elif df == 'quest_df':\n",
    "        df = quest_var\n",
    "    else:\n",
    "        print(\"please provide the name of a valid dataframe\")\n",
    "        \n",
    "    desc = df[df.VariableName == var]\n",
    "    return print(desc.VariableDescription[1])\n",
    "    "
   ]
  },
  {
   "cell_type": "code",
   "execution_count": 168,
   "metadata": {},
   "outputs": [
    {
     "name": "stdout",
     "output_type": "stream",
     "text": [
      "{'AIALANGA': 'Language of the MEC ACASI Interview Instrument', 'DMDBORN4': 'In what country {were you/was SP} born?', 'DMDCITZN': '{Are you/Is SP} a citizen of the United States? [Information about citizenship is being collected by the U.S. Public Health Service to perform health related research. Providing this information is voluntary and is collected under the authority of the Public Health Service Act. There will be no effect on pending immigration or citizenship petitions.]', 'DMDEDUC2': 'What is the highest grade or level of school {you have/SP has} completed or the highest degree {you have/s/he has} received?', 'DMDEDUC3': 'What is the highest grade or level of school {you have/SP has} completed or the highest degree {you have/s/he has} received?', 'DMDFMSIZ': 'Total number of people in the Family', 'DMDHHSIZ': 'Total number of people in the Household', 'DMDHHSZA': 'Number of children aged 5 years or younger in the household', 'DMDHHSZB': 'Number of children aged 6-17 years old in the household', 'DMDHHSZE': 'Number of adults aged 60 years or older in the household', 'DMDHRAGE': \"HH reference person's age in years\", 'DMDHRBR4': \"HH reference person's country of birth\", 'DMDHREDU': \"HH reference person's education level\", 'DMDHRGND': \"HH reference person's gender\", 'DMDHRMAR': \"HH reference person's marital status\", 'DMDHSEDU': \"HH reference person's spouse's education level\", 'DMDMARTL': 'Marital status', 'DMDYRSUS': 'Length of time the participant has been in the US.', 'DMQADFC': 'Did {you/SP} ever serve in a foreign country during a time of armed conflict or on a humanitarian or peace-keeping mission? (This would include National Guard or reserve or active duty monitoring or conducting peace keeping operations in Bosnia and Kosovo, in the Sinai between Egypt and Israel, or in response to the 2004 tsunami or Haiti in 2010.)', 'DMQMILIZ': '{Have you/Has SP} ever served on active duty in the U.S. Armed Forces, military Reserves, or National Guard? (Active duty does not include training for the Reserves or National Guard, but does include activation, for service in the U.S. or in a foreign country, in support of military or humanitarian operations.)', 'FIAINTRP': 'Was an interpreter used to conduct the Family interview?', 'FIALANG': 'Language of the Family Interview Instrument', 'FIAPROXY': 'Was a Proxy respondent used in conducting the Family Interview?', 'INDFMIN2': 'Total family income (reported as a range value in dollars)', 'INDFMPIR': 'A ratio of family income to poverty guidelines.', 'INDHHIN2': 'Total household income (reported as a range value in dollars)', 'MIAINTRP': 'Was an interpreter used to conduct the MEC CAPI interview?', 'MIALANG': 'Language of the MEC CAPI Interview Instrument', 'MIAPROXY': 'Was a Proxy respondent used in conducting the MEC CAPI Interview?', 'RIAGENDR': 'Gender of the participant.', 'RIDAGEMN': 'Age in months of the participant at the time of screening. Reported for persons aged 24 months or younger at the time of exam (or screening if not examined).', 'RIDAGEYR': 'Age in years of the participant at the time of screening. Individuals 80 and over are topcoded at 80 years of age.', 'RIDEXAGM': 'Age in months of the participant at the time of examination. Reported for persons aged 19 years or younger at the time of examination.', 'RIDEXMON': 'Six month time period when the examination was performed - two categories: November 1 through April 30, May 1 through October 31.', 'RIDEXPRG': 'Pregnancy status for females between 20 and 44 years of age at the time of MEC exam.', 'RIDRETH1': 'Recode of reported race and Hispanic origin information', 'RIDRETH3': 'Recode of reported race and Hispanic origin information, with Non-Hispanic Asian Category', 'RIDSTATR': 'Interview and examination status of the participant.', 'SDDSRVYR': 'Data release cycle', 'SDMVPSU': 'Masked variance unit pseudo-PSU variable for variance estimation', 'SDMVSTRA': 'Masked variance unit pseudo-stratum variable for variance estimation', 'SEQN': 'Respondent sequence number.', 'SIAINTRP': 'Was an interpreter used to conduct the Sample Person (SP) interview?', 'SIALANG': 'Language of the Sample Person Interview Instrument', 'SIAPROXY': 'Was a Proxy respondent used in conducting the Sample Person (SP) interview?', 'WTINT2YR': 'Full sample 2 year interview weight.', 'WTMEC2YR': 'Full sample 2 year MEC exam weight.'}\n"
     ]
    }
   ],
   "source": [
    "#Dictionary of variable names and descriptions \n",
    "demo_dict = {}\n",
    "for A, B in zip(np.array(demo_var.VariableName), np.array(demo_var.VariableDescription)):\n",
    "    demo_dict[A] = B\n",
    "print(demo_dict)"
   ]
  },
  {
   "cell_type": "code",
   "execution_count": 104,
   "metadata": {},
   "outputs": [],
   "source": [
    "con.close()\n",
    "con2.close()"
   ]
  }
 ],
 "metadata": {
  "kernelspec": {
   "display_name": "Python 3",
   "language": "python",
   "name": "python3"
  },
  "language_info": {
   "codemirror_mode": {
    "name": "ipython",
    "version": 3
   },
   "file_extension": ".py",
   "mimetype": "text/x-python",
   "name": "python",
   "nbconvert_exporter": "python",
   "pygments_lexer": "ipython3",
   "version": "3.8.5"
  }
 },
 "nbformat": 4,
 "nbformat_minor": 4
}
