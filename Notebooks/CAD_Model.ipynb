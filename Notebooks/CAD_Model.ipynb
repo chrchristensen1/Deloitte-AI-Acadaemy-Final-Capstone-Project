{
 "cells": [
  {
   "cell_type": "code",
   "execution_count": 2,
   "metadata": {},
   "outputs": [],
   "source": [
    "#Importing necessary python libraries\n",
    "import sqlite3\n",
    "import pandas as pd\n",
    "import numpy as np\n",
    "from xgboost import XGBClassifier\n",
    "from sklearn.linear_model  import LogisticRegression\n",
    "from sklearn.tree import DecisionTreeClassifier\n",
    "from sklearn.ensemble import RandomForestClassifier\n",
    "from sklearn.preprocessing import MinMaxScaler\n",
    "from sklearn.model_selection import train_test_split, GridSearchCV, RandomizedSearchCV\n",
    "from sklearn.metrics import confusion_matrix, ConfusionMatrixDisplay, accuracy_score, fbeta_score, make_scorer\n",
    "import matplotlib.pyplot as plt\n",
    "from imblearn.over_sampling import SMOTE\n",
    "%matplotlib inline"
   ]
  },
  {
   "cell_type": "code",
   "execution_count": 3,
   "metadata": {
    "scrolled": true
   },
   "outputs": [
    {
     "data": {
      "text/html": [
       "<div>\n",
       "<style scoped>\n",
       "    .dataframe tbody tr th:only-of-type {\n",
       "        vertical-align: middle;\n",
       "    }\n",
       "\n",
       "    .dataframe tbody tr th {\n",
       "        vertical-align: top;\n",
       "    }\n",
       "\n",
       "    .dataframe thead th {\n",
       "        text-align: right;\n",
       "    }\n",
       "</style>\n",
       "<table border=\"1\" class=\"dataframe\">\n",
       "  <thead>\n",
       "    <tr style=\"text-align: right;\">\n",
       "      <th></th>\n",
       "      <th>Age</th>\n",
       "      <th>Gender</th>\n",
       "      <th>BMI</th>\n",
       "      <th>Race</th>\n",
       "      <th>Pulse</th>\n",
       "      <th>Arrhythmia</th>\n",
       "      <th>Glu</th>\n",
       "      <th>SBP</th>\n",
       "      <th>DBP</th>\n",
       "      <th>FH_MI</th>\n",
       "      <th>DTS</th>\n",
       "      <th>Smoker</th>\n",
       "      <th>Non_HDL</th>\n",
       "      <th>DM</th>\n",
       "      <th>MI</th>\n",
       "      <th>CAD</th>\n",
       "    </tr>\n",
       "  </thead>\n",
       "  <tbody>\n",
       "    <tr>\n",
       "      <th>0</th>\n",
       "      <td>69</td>\n",
       "      <td>1</td>\n",
       "      <td>26.7</td>\n",
       "      <td>4</td>\n",
       "      <td>86.0</td>\n",
       "      <td>0</td>\n",
       "      <td>554.0</td>\n",
       "      <td>113.0</td>\n",
       "      <td>74.0</td>\n",
       "      <td>0</td>\n",
       "      <td>600.0</td>\n",
       "      <td>0</td>\n",
       "      <td>102.0</td>\n",
       "      <td>1</td>\n",
       "      <td>0</td>\n",
       "      <td>0</td>\n",
       "    </tr>\n",
       "    <tr>\n",
       "      <th>1</th>\n",
       "      <td>54</td>\n",
       "      <td>1</td>\n",
       "      <td>28.6</td>\n",
       "      <td>3</td>\n",
       "      <td>74.0</td>\n",
       "      <td>0</td>\n",
       "      <td>219.0</td>\n",
       "      <td>157.0</td>\n",
       "      <td>61.0</td>\n",
       "      <td>0</td>\n",
       "      <td>540.0</td>\n",
       "      <td>1</td>\n",
       "      <td>120.0</td>\n",
       "      <td>1</td>\n",
       "      <td>0</td>\n",
       "      <td>0</td>\n",
       "    </tr>\n",
       "    <tr>\n",
       "      <th>2</th>\n",
       "      <td>72</td>\n",
       "      <td>1</td>\n",
       "      <td>28.9</td>\n",
       "      <td>3</td>\n",
       "      <td>68.0</td>\n",
       "      <td>0</td>\n",
       "      <td>183.0</td>\n",
       "      <td>142.0</td>\n",
       "      <td>82.0</td>\n",
       "      <td>1</td>\n",
       "      <td>300.0</td>\n",
       "      <td>0</td>\n",
       "      <td>66.0</td>\n",
       "      <td>1</td>\n",
       "      <td>0</td>\n",
       "      <td>0</td>\n",
       "    </tr>\n",
       "    <tr>\n",
       "      <th>3</th>\n",
       "      <td>73</td>\n",
       "      <td>0</td>\n",
       "      <td>19.7</td>\n",
       "      <td>3</td>\n",
       "      <td>92.0</td>\n",
       "      <td>0</td>\n",
       "      <td>104.0</td>\n",
       "      <td>137.0</td>\n",
       "      <td>87.0</td>\n",
       "      <td>1</td>\n",
       "      <td>480.0</td>\n",
       "      <td>0</td>\n",
       "      <td>116.0</td>\n",
       "      <td>0</td>\n",
       "      <td>0</td>\n",
       "      <td>0</td>\n",
       "    </tr>\n",
       "    <tr>\n",
       "      <th>4</th>\n",
       "      <td>56</td>\n",
       "      <td>1</td>\n",
       "      <td>41.7</td>\n",
       "      <td>1</td>\n",
       "      <td>60.0</td>\n",
       "      <td>0</td>\n",
       "      <td>104.0</td>\n",
       "      <td>157.0</td>\n",
       "      <td>82.0</td>\n",
       "      <td>0</td>\n",
       "      <td>360.0</td>\n",
       "      <td>0</td>\n",
       "      <td>188.0</td>\n",
       "      <td>0</td>\n",
       "      <td>1</td>\n",
       "      <td>1</td>\n",
       "    </tr>\n",
       "  </tbody>\n",
       "</table>\n",
       "</div>"
      ],
      "text/plain": [
       "   Age  Gender   BMI  Race  Pulse  Arrhythmia    Glu    SBP   DBP  FH_MI  \\\n",
       "0   69       1  26.7     4   86.0           0  554.0  113.0  74.0      0   \n",
       "1   54       1  28.6     3   74.0           0  219.0  157.0  61.0      0   \n",
       "2   72       1  28.9     3   68.0           0  183.0  142.0  82.0      1   \n",
       "3   73       0  19.7     3   92.0           0  104.0  137.0  87.0      1   \n",
       "4   56       1  41.7     1   60.0           0  104.0  157.0  82.0      0   \n",
       "\n",
       "     DTS  Smoker  Non_HDL  DM  MI  CAD  \n",
       "0  600.0       0    102.0   1   0    0  \n",
       "1  540.0       1    120.0   1   0    0  \n",
       "2  300.0       0     66.0   1   0    0  \n",
       "3  480.0       0    116.0   0   0    0  \n",
       "4  360.0       0    188.0   0   1    1  "
      ]
     },
     "execution_count": 3,
     "metadata": {},
     "output_type": "execute_result"
    }
   ],
   "source": [
    "#Read in the cleaned Coronary Artery Disease (CAD) dataset.\n",
    "file_path = '../Data/Cleaned Data/prepared_cad_data.csv'\n",
    "cad_df = pd.read_csv(file_path)\n",
    "cad_df.head()"
   ]
  },
  {
   "cell_type": "code",
   "execution_count": 4,
   "metadata": {},
   "outputs": [
    {
     "data": {
      "text/html": [
       "<div>\n",
       "<style scoped>\n",
       "    .dataframe tbody tr th:only-of-type {\n",
       "        vertical-align: middle;\n",
       "    }\n",
       "\n",
       "    .dataframe tbody tr th {\n",
       "        vertical-align: top;\n",
       "    }\n",
       "\n",
       "    .dataframe thead th {\n",
       "        text-align: right;\n",
       "    }\n",
       "</style>\n",
       "<table border=\"1\" class=\"dataframe\">\n",
       "  <thead>\n",
       "    <tr style=\"text-align: right;\">\n",
       "      <th></th>\n",
       "      <th>Age</th>\n",
       "      <th>Gender</th>\n",
       "      <th>BMI</th>\n",
       "      <th>Race</th>\n",
       "      <th>Pulse</th>\n",
       "      <th>Arrhythmia</th>\n",
       "      <th>Glu</th>\n",
       "      <th>SBP</th>\n",
       "      <th>DBP</th>\n",
       "      <th>FH_MI</th>\n",
       "      <th>DTS</th>\n",
       "      <th>Smoker</th>\n",
       "      <th>Non_HDL</th>\n",
       "      <th>DM</th>\n",
       "      <th>CAD</th>\n",
       "    </tr>\n",
       "  </thead>\n",
       "  <tbody>\n",
       "    <tr>\n",
       "      <th>0</th>\n",
       "      <td>69</td>\n",
       "      <td>1</td>\n",
       "      <td>26.7</td>\n",
       "      <td>4</td>\n",
       "      <td>86.0</td>\n",
       "      <td>0</td>\n",
       "      <td>554.0</td>\n",
       "      <td>113.0</td>\n",
       "      <td>74.0</td>\n",
       "      <td>0</td>\n",
       "      <td>600.0</td>\n",
       "      <td>0</td>\n",
       "      <td>102.0</td>\n",
       "      <td>1</td>\n",
       "      <td>0</td>\n",
       "    </tr>\n",
       "    <tr>\n",
       "      <th>1</th>\n",
       "      <td>54</td>\n",
       "      <td>1</td>\n",
       "      <td>28.6</td>\n",
       "      <td>3</td>\n",
       "      <td>74.0</td>\n",
       "      <td>0</td>\n",
       "      <td>219.0</td>\n",
       "      <td>157.0</td>\n",
       "      <td>61.0</td>\n",
       "      <td>0</td>\n",
       "      <td>540.0</td>\n",
       "      <td>1</td>\n",
       "      <td>120.0</td>\n",
       "      <td>1</td>\n",
       "      <td>0</td>\n",
       "    </tr>\n",
       "    <tr>\n",
       "      <th>2</th>\n",
       "      <td>72</td>\n",
       "      <td>1</td>\n",
       "      <td>28.9</td>\n",
       "      <td>3</td>\n",
       "      <td>68.0</td>\n",
       "      <td>0</td>\n",
       "      <td>183.0</td>\n",
       "      <td>142.0</td>\n",
       "      <td>82.0</td>\n",
       "      <td>1</td>\n",
       "      <td>300.0</td>\n",
       "      <td>0</td>\n",
       "      <td>66.0</td>\n",
       "      <td>1</td>\n",
       "      <td>0</td>\n",
       "    </tr>\n",
       "    <tr>\n",
       "      <th>3</th>\n",
       "      <td>73</td>\n",
       "      <td>0</td>\n",
       "      <td>19.7</td>\n",
       "      <td>3</td>\n",
       "      <td>92.0</td>\n",
       "      <td>0</td>\n",
       "      <td>104.0</td>\n",
       "      <td>137.0</td>\n",
       "      <td>87.0</td>\n",
       "      <td>1</td>\n",
       "      <td>480.0</td>\n",
       "      <td>0</td>\n",
       "      <td>116.0</td>\n",
       "      <td>0</td>\n",
       "      <td>0</td>\n",
       "    </tr>\n",
       "    <tr>\n",
       "      <th>4</th>\n",
       "      <td>56</td>\n",
       "      <td>1</td>\n",
       "      <td>41.7</td>\n",
       "      <td>1</td>\n",
       "      <td>60.0</td>\n",
       "      <td>0</td>\n",
       "      <td>104.0</td>\n",
       "      <td>157.0</td>\n",
       "      <td>82.0</td>\n",
       "      <td>0</td>\n",
       "      <td>360.0</td>\n",
       "      <td>0</td>\n",
       "      <td>188.0</td>\n",
       "      <td>0</td>\n",
       "      <td>1</td>\n",
       "    </tr>\n",
       "  </tbody>\n",
       "</table>\n",
       "</div>"
      ],
      "text/plain": [
       "   Age  Gender   BMI  Race  Pulse  Arrhythmia    Glu    SBP   DBP  FH_MI  \\\n",
       "0   69       1  26.7     4   86.0           0  554.0  113.0  74.0      0   \n",
       "1   54       1  28.6     3   74.0           0  219.0  157.0  61.0      0   \n",
       "2   72       1  28.9     3   68.0           0  183.0  142.0  82.0      1   \n",
       "3   73       0  19.7     3   92.0           0  104.0  137.0  87.0      1   \n",
       "4   56       1  41.7     1   60.0           0  104.0  157.0  82.0      0   \n",
       "\n",
       "     DTS  Smoker  Non_HDL  DM  CAD  \n",
       "0  600.0       0    102.0   1    0  \n",
       "1  540.0       1    120.0   1    0  \n",
       "2  300.0       0     66.0   1    0  \n",
       "3  480.0       0    116.0   0    0  \n",
       "4  360.0       0    188.0   0    1  "
      ]
     },
     "execution_count": 4,
     "metadata": {},
     "output_type": "execute_result"
    }
   ],
   "source": [
    "#Drop MI (Miocardial Infarction (Heart Attack)) Column\n",
    "cad_df.drop(columns=(['MI']), inplace=True)\n",
    "cad_df2 = cad_df.drop(columns=(['FH_MI', 'Arrhythmia', 'DM']))\n",
    "cad_df.head()"
   ]
  },
  {
   "cell_type": "code",
   "execution_count": 5,
   "metadata": {
    "scrolled": false
   },
   "outputs": [
    {
     "data": {
      "text/html": [
       "<div>\n",
       "<style scoped>\n",
       "    .dataframe tbody tr th:only-of-type {\n",
       "        vertical-align: middle;\n",
       "    }\n",
       "\n",
       "    .dataframe tbody tr th {\n",
       "        vertical-align: top;\n",
       "    }\n",
       "\n",
       "    .dataframe thead th {\n",
       "        text-align: right;\n",
       "    }\n",
       "</style>\n",
       "<table border=\"1\" class=\"dataframe\">\n",
       "  <thead>\n",
       "    <tr style=\"text-align: right;\">\n",
       "      <th></th>\n",
       "      <th>Age</th>\n",
       "      <th>Gender</th>\n",
       "      <th>BMI</th>\n",
       "      <th>Pulse</th>\n",
       "      <th>Arrhythmia</th>\n",
       "      <th>Glu</th>\n",
       "      <th>SBP</th>\n",
       "      <th>DBP</th>\n",
       "      <th>FH_MI</th>\n",
       "      <th>DTS</th>\n",
       "      <th>Smoker</th>\n",
       "      <th>Non_HDL</th>\n",
       "      <th>DM</th>\n",
       "      <th>CAD</th>\n",
       "      <th>Race_1</th>\n",
       "      <th>Race_2</th>\n",
       "      <th>Race_3</th>\n",
       "      <th>Race_4</th>\n",
       "      <th>Race_5</th>\n",
       "    </tr>\n",
       "  </thead>\n",
       "  <tbody>\n",
       "    <tr>\n",
       "      <th>0</th>\n",
       "      <td>69</td>\n",
       "      <td>1</td>\n",
       "      <td>26.7</td>\n",
       "      <td>86.0</td>\n",
       "      <td>0</td>\n",
       "      <td>554.0</td>\n",
       "      <td>113.0</td>\n",
       "      <td>74.0</td>\n",
       "      <td>0</td>\n",
       "      <td>600.0</td>\n",
       "      <td>0</td>\n",
       "      <td>102.0</td>\n",
       "      <td>1</td>\n",
       "      <td>0</td>\n",
       "      <td>0</td>\n",
       "      <td>0</td>\n",
       "      <td>0</td>\n",
       "      <td>1</td>\n",
       "      <td>0</td>\n",
       "    </tr>\n",
       "    <tr>\n",
       "      <th>1</th>\n",
       "      <td>54</td>\n",
       "      <td>1</td>\n",
       "      <td>28.6</td>\n",
       "      <td>74.0</td>\n",
       "      <td>0</td>\n",
       "      <td>219.0</td>\n",
       "      <td>157.0</td>\n",
       "      <td>61.0</td>\n",
       "      <td>0</td>\n",
       "      <td>540.0</td>\n",
       "      <td>1</td>\n",
       "      <td>120.0</td>\n",
       "      <td>1</td>\n",
       "      <td>0</td>\n",
       "      <td>0</td>\n",
       "      <td>0</td>\n",
       "      <td>1</td>\n",
       "      <td>0</td>\n",
       "      <td>0</td>\n",
       "    </tr>\n",
       "    <tr>\n",
       "      <th>2</th>\n",
       "      <td>72</td>\n",
       "      <td>1</td>\n",
       "      <td>28.9</td>\n",
       "      <td>68.0</td>\n",
       "      <td>0</td>\n",
       "      <td>183.0</td>\n",
       "      <td>142.0</td>\n",
       "      <td>82.0</td>\n",
       "      <td>1</td>\n",
       "      <td>300.0</td>\n",
       "      <td>0</td>\n",
       "      <td>66.0</td>\n",
       "      <td>1</td>\n",
       "      <td>0</td>\n",
       "      <td>0</td>\n",
       "      <td>0</td>\n",
       "      <td>1</td>\n",
       "      <td>0</td>\n",
       "      <td>0</td>\n",
       "    </tr>\n",
       "    <tr>\n",
       "      <th>3</th>\n",
       "      <td>73</td>\n",
       "      <td>0</td>\n",
       "      <td>19.7</td>\n",
       "      <td>92.0</td>\n",
       "      <td>0</td>\n",
       "      <td>104.0</td>\n",
       "      <td>137.0</td>\n",
       "      <td>87.0</td>\n",
       "      <td>1</td>\n",
       "      <td>480.0</td>\n",
       "      <td>0</td>\n",
       "      <td>116.0</td>\n",
       "      <td>0</td>\n",
       "      <td>0</td>\n",
       "      <td>0</td>\n",
       "      <td>0</td>\n",
       "      <td>1</td>\n",
       "      <td>0</td>\n",
       "      <td>0</td>\n",
       "    </tr>\n",
       "    <tr>\n",
       "      <th>4</th>\n",
       "      <td>56</td>\n",
       "      <td>1</td>\n",
       "      <td>41.7</td>\n",
       "      <td>60.0</td>\n",
       "      <td>0</td>\n",
       "      <td>104.0</td>\n",
       "      <td>157.0</td>\n",
       "      <td>82.0</td>\n",
       "      <td>0</td>\n",
       "      <td>360.0</td>\n",
       "      <td>0</td>\n",
       "      <td>188.0</td>\n",
       "      <td>0</td>\n",
       "      <td>1</td>\n",
       "      <td>1</td>\n",
       "      <td>0</td>\n",
       "      <td>0</td>\n",
       "      <td>0</td>\n",
       "      <td>0</td>\n",
       "    </tr>\n",
       "  </tbody>\n",
       "</table>\n",
       "</div>"
      ],
      "text/plain": [
       "   Age  Gender   BMI  Pulse  Arrhythmia    Glu    SBP   DBP  FH_MI    DTS  \\\n",
       "0   69       1  26.7   86.0           0  554.0  113.0  74.0      0  600.0   \n",
       "1   54       1  28.6   74.0           0  219.0  157.0  61.0      0  540.0   \n",
       "2   72       1  28.9   68.0           0  183.0  142.0  82.0      1  300.0   \n",
       "3   73       0  19.7   92.0           0  104.0  137.0  87.0      1  480.0   \n",
       "4   56       1  41.7   60.0           0  104.0  157.0  82.0      0  360.0   \n",
       "\n",
       "   Smoker  Non_HDL  DM  CAD  Race_1  Race_2  Race_3  Race_4  Race_5  \n",
       "0       0    102.0   1    0       0       0       0       1       0  \n",
       "1       1    120.0   1    0       0       0       1       0       0  \n",
       "2       0     66.0   1    0       0       0       1       0       0  \n",
       "3       0    116.0   0    0       0       0       1       0       0  \n",
       "4       0    188.0   0    1       1       0       0       0       0  "
      ]
     },
     "execution_count": 5,
     "metadata": {},
     "output_type": "execute_result"
    }
   ],
   "source": [
    "#Encoding race categories to binary categories\n",
    "cad_df = pd.get_dummies(cad_df, columns=(['Race']))\n",
    "cad_df.head()"
   ]
  },
  {
   "cell_type": "code",
   "execution_count": 6,
   "metadata": {},
   "outputs": [
    {
     "data": {
      "text/html": [
       "<div>\n",
       "<style scoped>\n",
       "    .dataframe tbody tr th:only-of-type {\n",
       "        vertical-align: middle;\n",
       "    }\n",
       "\n",
       "    .dataframe tbody tr th {\n",
       "        vertical-align: top;\n",
       "    }\n",
       "\n",
       "    .dataframe thead th {\n",
       "        text-align: right;\n",
       "    }\n",
       "</style>\n",
       "<table border=\"1\" class=\"dataframe\">\n",
       "  <thead>\n",
       "    <tr style=\"text-align: right;\">\n",
       "      <th></th>\n",
       "      <th>Age</th>\n",
       "      <th>Gender</th>\n",
       "      <th>BMI</th>\n",
       "      <th>Pulse</th>\n",
       "      <th>Arrhythmia</th>\n",
       "      <th>Glu</th>\n",
       "      <th>SBP</th>\n",
       "      <th>DBP</th>\n",
       "      <th>FH_MI</th>\n",
       "      <th>DTS</th>\n",
       "      <th>Smoker</th>\n",
       "      <th>Non_HDL</th>\n",
       "      <th>DM</th>\n",
       "      <th>Race_1</th>\n",
       "      <th>Race_2</th>\n",
       "      <th>Race_3</th>\n",
       "      <th>Race_4</th>\n",
       "      <th>Race_5</th>\n",
       "    </tr>\n",
       "  </thead>\n",
       "  <tbody>\n",
       "    <tr>\n",
       "      <th>0</th>\n",
       "      <td>69</td>\n",
       "      <td>1</td>\n",
       "      <td>26.7</td>\n",
       "      <td>86.0</td>\n",
       "      <td>0</td>\n",
       "      <td>554.0</td>\n",
       "      <td>113.0</td>\n",
       "      <td>74.0</td>\n",
       "      <td>0</td>\n",
       "      <td>600.0</td>\n",
       "      <td>0</td>\n",
       "      <td>102.0</td>\n",
       "      <td>1</td>\n",
       "      <td>0</td>\n",
       "      <td>0</td>\n",
       "      <td>0</td>\n",
       "      <td>1</td>\n",
       "      <td>0</td>\n",
       "    </tr>\n",
       "    <tr>\n",
       "      <th>1</th>\n",
       "      <td>54</td>\n",
       "      <td>1</td>\n",
       "      <td>28.6</td>\n",
       "      <td>74.0</td>\n",
       "      <td>0</td>\n",
       "      <td>219.0</td>\n",
       "      <td>157.0</td>\n",
       "      <td>61.0</td>\n",
       "      <td>0</td>\n",
       "      <td>540.0</td>\n",
       "      <td>1</td>\n",
       "      <td>120.0</td>\n",
       "      <td>1</td>\n",
       "      <td>0</td>\n",
       "      <td>0</td>\n",
       "      <td>1</td>\n",
       "      <td>0</td>\n",
       "      <td>0</td>\n",
       "    </tr>\n",
       "    <tr>\n",
       "      <th>2</th>\n",
       "      <td>72</td>\n",
       "      <td>1</td>\n",
       "      <td>28.9</td>\n",
       "      <td>68.0</td>\n",
       "      <td>0</td>\n",
       "      <td>183.0</td>\n",
       "      <td>142.0</td>\n",
       "      <td>82.0</td>\n",
       "      <td>1</td>\n",
       "      <td>300.0</td>\n",
       "      <td>0</td>\n",
       "      <td>66.0</td>\n",
       "      <td>1</td>\n",
       "      <td>0</td>\n",
       "      <td>0</td>\n",
       "      <td>1</td>\n",
       "      <td>0</td>\n",
       "      <td>0</td>\n",
       "    </tr>\n",
       "    <tr>\n",
       "      <th>3</th>\n",
       "      <td>73</td>\n",
       "      <td>0</td>\n",
       "      <td>19.7</td>\n",
       "      <td>92.0</td>\n",
       "      <td>0</td>\n",
       "      <td>104.0</td>\n",
       "      <td>137.0</td>\n",
       "      <td>87.0</td>\n",
       "      <td>1</td>\n",
       "      <td>480.0</td>\n",
       "      <td>0</td>\n",
       "      <td>116.0</td>\n",
       "      <td>0</td>\n",
       "      <td>0</td>\n",
       "      <td>0</td>\n",
       "      <td>1</td>\n",
       "      <td>0</td>\n",
       "      <td>0</td>\n",
       "    </tr>\n",
       "    <tr>\n",
       "      <th>4</th>\n",
       "      <td>56</td>\n",
       "      <td>1</td>\n",
       "      <td>41.7</td>\n",
       "      <td>60.0</td>\n",
       "      <td>0</td>\n",
       "      <td>104.0</td>\n",
       "      <td>157.0</td>\n",
       "      <td>82.0</td>\n",
       "      <td>0</td>\n",
       "      <td>360.0</td>\n",
       "      <td>0</td>\n",
       "      <td>188.0</td>\n",
       "      <td>0</td>\n",
       "      <td>1</td>\n",
       "      <td>0</td>\n",
       "      <td>0</td>\n",
       "      <td>0</td>\n",
       "      <td>0</td>\n",
       "    </tr>\n",
       "  </tbody>\n",
       "</table>\n",
       "</div>"
      ],
      "text/plain": [
       "   Age  Gender   BMI  Pulse  Arrhythmia    Glu    SBP   DBP  FH_MI    DTS  \\\n",
       "0   69       1  26.7   86.0           0  554.0  113.0  74.0      0  600.0   \n",
       "1   54       1  28.6   74.0           0  219.0  157.0  61.0      0  540.0   \n",
       "2   72       1  28.9   68.0           0  183.0  142.0  82.0      1  300.0   \n",
       "3   73       0  19.7   92.0           0  104.0  137.0  87.0      1  480.0   \n",
       "4   56       1  41.7   60.0           0  104.0  157.0  82.0      0  360.0   \n",
       "\n",
       "   Smoker  Non_HDL  DM  Race_1  Race_2  Race_3  Race_4  Race_5  \n",
       "0       0    102.0   1       0       0       0       1       0  \n",
       "1       1    120.0   1       0       0       1       0       0  \n",
       "2       0     66.0   1       0       0       1       0       0  \n",
       "3       0    116.0   0       0       0       1       0       0  \n",
       "4       0    188.0   0       1       0       0       0       0  "
      ]
     },
     "execution_count": 6,
     "metadata": {},
     "output_type": "execute_result"
    }
   ],
   "source": [
    "# Define Target Variable\n",
    "y = cad_df.CAD\n",
    "\n",
    "# Drop Target Variable From Data\n",
    "X = cad_df.drop(columns=('CAD'))\n",
    "X.head()"
   ]
  },
  {
   "cell_type": "code",
   "execution_count": 7,
   "metadata": {},
   "outputs": [
    {
     "name": "stdout",
     "output_type": "stream",
     "text": [
      "Minority Class before smote: 171\n",
      "Majority Class before smote: 3825\n",
      "Minority Class after smote: 3825\n",
      "Majority Class after smote: 3825\n"
     ]
    }
   ],
   "source": [
    "#Split Data into training and test sets\n",
    "X_train, X_test, y_train, y_test = train_test_split(X, y, random_state=42)\n",
    "\n",
    "smote = SMOTE()\n",
    "X_train_smote, y_train_smote,  = smote.fit_resample(X_train, y_train)\n",
    "\n",
    "print(f'Minority Class before smote: {y_train.value_counts().iloc[1]}')\n",
    "print(f'Majority Class before smote: {y_train.value_counts().iloc[0]}')\n",
    "print(f'Minority Class after smote: {y_train_smote.value_counts().iloc[1]}')\n",
    "print(f'Majority Class after smote: {y_train_smote.value_counts().iloc[0]}')"
   ]
  },
  {
   "cell_type": "code",
   "execution_count": 8,
   "metadata": {
    "scrolled": true
   },
   "outputs": [],
   "source": [
    "dt_clf = DecisionTreeClassifier()\n",
    "rf_clf = RandomForestClassifier()\n",
    "xgb_clf = XGBClassifier()"
   ]
  },
  {
   "cell_type": "code",
   "execution_count": 9,
   "metadata": {},
   "outputs": [],
   "source": [
    "def clf(classifier):\n",
    "    model = classifier\n",
    "    model.fit(X_train_smote, y_train_smote)\n",
    "    y_test_pred = model.predict(X_test)\n",
    "    y_train_pred = model.predict(X_train_smote)\n",
    "    acc_train = accuracy_score(y_train_smote, y_train_pred)*100\n",
    "    acc_test = accuracy_score(y_test, y_test_pred)*100\n",
    "    f2_train = fbeta_score(y_train_smote, y_train_pred, beta=2.0)*100\n",
    "    f2_test = fbeta_score(y_test, y_test_pred, beta=2.0)*100\n",
    "    cm = confusion_matrix(y_test, y_test_pred)\n",
    "    print(f'''Accuracy of Predictions on Training Data: {round(acc_train, 2)}\n",
    "Accuracy of Predictions on Test Data: {round(acc_test, 2)}\n",
    "                                 ''')\n",
    "    print(f'''F2 Score for Training Data: {round(f2_train, 2)}\n",
    "F2 Score for Test Data: {round(f2_test, 2)}\n",
    "                    ''')\n",
    "    print('Confusion Matrix Numbers for Test Data')\n",
    "    print(' ')\n",
    "    print(f'''True Negatives: {cm[0][0]}\n",
    "False Negatives: {cm[1][0]}\n",
    "False Positives: {cm[0][1]}\n",
    "True Positives: {cm[1][1]}\n",
    " ''')\n",
    "    cm_disp = ConfusionMatrixDisplay(confusion_matrix=cm)\n",
    "    cm_disp.plot()\n",
    "    plt.title(f'Confusion Matrix')\n",
    "    plt.show()"
   ]
  },
  {
   "cell_type": "code",
   "execution_count": 10,
   "metadata": {},
   "outputs": [
    {
     "name": "stdout",
     "output_type": "stream",
     "text": [
      "Accuracy of Predictions on Training Data: 100.0\n",
      "Accuracy of Predictions on Test Data: 90.32\n",
      "                                 \n",
      "F2 Score for Training Data: 100.0\n",
      "F2 Score for Test Data: 21.05\n",
      "                    \n",
      "Confusion Matrix Numbers for Test Data\n",
      " \n",
      "True Negatives: 1191\n",
      "False Negatives: 32\n",
      "False Positives: 97\n",
      "True Positives: 12\n",
      " \n"
     ]
    },
    {
     "data": {
      "image/png": "[encoded data removed]",
      "text/plain": [
       "<Figure size 432x288 with 2 Axes>"
      ]
     },
     "metadata": {
      "needs_background": "light"
     },
     "output_type": "display_data"
    }
   ],
   "source": [
    "clf(dt_clf)"
   ]
  },
  {
   "cell_type": "code",
   "execution_count": 11,
   "metadata": {},
   "outputs": [],
   "source": [
    "def clf_compare(clf_dict):\n",
    "    classifiers = clf_dict\n",
    "    for i in range(len(clf_dict)):\n",
    "        print('---------------------------')\n",
    "        print(list(clf_dict.keys())[i])\n",
    "        print('---------------------------')\n",
    "        clf(list(clf_dict.values())[i])"
   ]
  },
  {
   "cell_type": "code",
   "execution_count": 12,
   "metadata": {
    "scrolled": true
   },
   "outputs": [
    {
     "name": "stdout",
     "output_type": "stream",
     "text": [
      "---------------------------\n",
      "Decision Tree Classifier\n",
      "---------------------------\n",
      "Accuracy of Predictions on Training Data: 100.0\n",
      "Accuracy of Predictions on Test Data: 91.14\n",
      "                                 \n",
      "F2 Score for Training Data: 100.0\n",
      "F2 Score for Test Data: 29.93\n",
      "                    \n",
      "Confusion Matrix Numbers for Test Data\n",
      " \n",
      "True Negatives: 1197\n",
      "False Negatives: 27\n",
      "False Positives: 91\n",
      "True Positives: 17\n",
      " \n"
     ]
    },
    {
     "data": {
      "image/png": "[encoded data removed]",
      "text/plain": [
       "<Figure size 432x288 with 2 Axes>"
      ]
     },
     "metadata": {
      "needs_background": "light"
     },
     "output_type": "display_data"
    },
    {
     "name": "stdout",
     "output_type": "stream",
     "text": [
      "---------------------------\n",
      "Random Forest Classifier\n",
      "---------------------------\n",
      "Accuracy of Predictions on Training Data: 100.0\n",
      "Accuracy of Predictions on Test Data: 93.09\n",
      "                                 \n",
      "F2 Score for Training Data: 100.0\n",
      "F2 Score for Test Data: 12.71\n",
      "                    \n",
      "Confusion Matrix Numbers for Test Data\n",
      " \n",
      "True Negatives: 1234\n",
      "False Negatives: 38\n",
      "False Positives: 54\n",
      "True Positives: 6\n",
      " \n"
     ]
    },
    {
     "data": {
      "image/png": "[encoded data removed]",
      "text/plain": [
       "<Figure size 432x288 with 2 Axes>"
      ]
     },
     "metadata": {
      "needs_background": "light"
     },
     "output_type": "display_data"
    },
    {
     "name": "stdout",
     "output_type": "stream",
     "text": [
      "---------------------------\n",
      "XGBoost Classifier\n",
      "---------------------------\n",
      "Accuracy of Predictions on Training Data: 100.0\n",
      "Accuracy of Predictions on Test Data: 94.89\n",
      "                                 \n",
      "F2 Score for Training Data: 100.0\n",
      "F2 Score for Test Data: 9.62\n",
      "                    \n",
      "Confusion Matrix Numbers for Test Data\n",
      " \n",
      "True Negatives: 1260\n",
      "False Negatives: 40\n",
      "False Positives: 28\n",
      "True Positives: 4\n",
      " \n"
     ]
    },
    {
     "data": {
      "image/png": "[encoded data removed]",
      "text/plain": [
       "<Figure size 432x288 with 2 Axes>"
      ]
     },
     "metadata": {
      "needs_background": "light"
     },
     "output_type": "display_data"
    }
   ],
   "source": [
    "dt_clf = DecisionTreeClassifier()\n",
    "rf_clf = RandomForestClassifier()\n",
    "xgb_clf = XGBClassifier()\n",
    "clf_dict = {'Decision Tree Classifier': dt_clf, 'Random Forest Classifier': rf_clf, 'XGBoost Classifier': xgb_clf}\n",
    "clf_compare(clf_dict)"
   ]
  },
  {
   "cell_type": "code",
   "execution_count": 13,
   "metadata": {},
   "outputs": [],
   "source": [
    "def ftr_imp(model):\n",
    "    n_features = X_train.shape[1]\n",
    "    plt.figure(figsize=(8,8))\n",
    "    plt.barh(range(n_features), model.feature_importances_, align='center') \n",
    "    plt.yticks(np.arange(n_features), X_train.columns.values) \n",
    "    plt.xlabel('Feature importance')\n",
    "    plt.ylabel('Feature')\n",
    "    plt.show()"
   ]
  },
  {
   "cell_type": "code",
   "execution_count": 14,
   "metadata": {},
   "outputs": [],
   "source": [
    "def ftr_imp_comp(clf_dict):\n",
    "    for i in range(len(clf_dict)):\n",
    "        print(f'                          {list(clf_dict.keys())[i]}')\n",
    "        ftr_imp(list(clf_dict.values())[i])\n",
    "        print('''          ----------------------------------------------------------\n",
    "        ''');"
   ]
  },
  {
   "cell_type": "code",
   "execution_count": 15,
   "metadata": {},
   "outputs": [
    {
     "name": "stdout",
     "output_type": "stream",
     "text": [
      "                          Decision Tree Classifier\n"
     ]
    },
    {
     "data": {
      "image/png": "[encoded data removed]",
      "text/plain": [
       "<Figure size 576x576 with 1 Axes>"
      ]
     },
     "metadata": {
      "needs_background": "light"
     },
     "output_type": "display_data"
    },
    {
     "name": "stdout",
     "output_type": "stream",
     "text": [
      "          ----------------------------------------------------------\n",
      "        \n",
      "                          Random Forest Classifier\n"
     ]
    },
    {
     "data": {
      "image/png": "[encoded data removed]",
      "text/plain": [
       "<Figure size 576x576 with 1 Axes>"
      ]
     },
     "metadata": {
      "needs_background": "light"
     },
     "output_type": "display_data"
    },
    {
     "name": "stdout",
     "output_type": "stream",
     "text": [
      "          ----------------------------------------------------------\n",
      "        \n",
      "                          XGBoost Classifier\n"
     ]
    },
    {
     "data": {
      "image/png": "[encoded data removed]",
      "text/plain": [
       "<Figure size 576x576 with 1 Axes>"
      ]
     },
     "metadata": {
      "needs_background": "light"
     },
     "output_type": "display_data"
    },
    {
     "name": "stdout",
     "output_type": "stream",
     "text": [
      "          ----------------------------------------------------------\n",
      "        \n"
     ]
    }
   ],
   "source": [
    "ftr_imp_comp(clf_dict)"
   ]
  },
  {
   "cell_type": "code",
   "execution_count": 16,
   "metadata": {},
   "outputs": [],
   "source": [
    "# Define Target Variable\n",
    "y = cad_df2.CAD\n",
    "\n",
    "# Drop Target Variable From Data\n",
    "X = cad_df2.drop(columns=('CAD'))\n",
    "X_train, X_test, y_train, y_test = train_test_split(X, y, random_state=42)\n",
    "\n",
    "smote = SMOTE()\n",
    "X_train_smote, y_train_smote,  = smote.fit_resample(X_train, y_train)"
   ]
  },
  {
   "cell_type": "code",
   "execution_count": 17,
   "metadata": {
    "scrolled": true
   },
   "outputs": [
    {
     "name": "stdout",
     "output_type": "stream",
     "text": [
      "---------------------------\n",
      "Decision Tree Classifier\n",
      "---------------------------\n",
      "Accuracy of Predictions on Training Data: 100.0\n",
      "Accuracy of Predictions on Test Data: 86.04\n",
      "                                 \n",
      "F2 Score for Training Data: 100.0\n",
      "F2 Score for Test Data: 25.42\n",
      "                    \n",
      "Confusion Matrix Numbers for Test Data\n",
      " \n",
      "True Negatives: 1128\n",
      "False Negatives: 26\n",
      "False Positives: 160\n",
      "True Positives: 18\n",
      " \n"
     ]
    },
    {
     "data": {
      "image/png": "[encoded data removed]",
      "text/plain": [
       "<Figure size 432x288 with 2 Axes>"
      ]
     },
     "metadata": {
      "needs_background": "light"
     },
     "output_type": "display_data"
    },
    {
     "name": "stdout",
     "output_type": "stream",
     "text": [
      "---------------------------\n",
      "Random Forest Classifier\n",
      "---------------------------\n",
      "Accuracy of Predictions on Training Data: 100.0\n",
      "Accuracy of Predictions on Test Data: 92.04\n",
      "                                 \n",
      "F2 Score for Training Data: 100.0\n",
      "F2 Score for Test Data: 27.99\n",
      "                    \n",
      "Confusion Matrix Numbers for Test Data\n",
      " \n",
      "True Negatives: 1211\n",
      "False Negatives: 29\n",
      "False Positives: 77\n",
      "True Positives: 15\n",
      " \n"
     ]
    },
    {
     "data": {
      "image/png": "[encoded data removed]",
      "text/plain": [
       "<Figure size 432x288 with 2 Axes>"
      ]
     },
     "metadata": {
      "needs_background": "light"
     },
     "output_type": "display_data"
    },
    {
     "name": "stdout",
     "output_type": "stream",
     "text": [
      "---------------------------\n",
      "XGBoost Classifier\n",
      "---------------------------\n",
      "Accuracy of Predictions on Training Data: 99.99\n",
      "Accuracy of Predictions on Test Data: 95.35\n",
      "                                 \n",
      "F2 Score for Training Data: 99.98\n",
      "F2 Score for Test Data: 16.83\n",
      "                    \n",
      "Confusion Matrix Numbers for Test Data\n",
      " \n",
      "True Negatives: 1263\n",
      "False Negatives: 37\n",
      "False Positives: 25\n",
      "True Positives: 7\n",
      " \n"
     ]
    },
    {
     "data": {
      "image/png": "[encoded data removed]",
      "text/plain": [
       "<Figure size 432x288 with 2 Axes>"
      ]
     },
     "metadata": {
      "needs_background": "light"
     },
     "output_type": "display_data"
    }
   ],
   "source": [
    "clf_compare(clf_dict)"
   ]
  },
  {
   "cell_type": "code",
   "execution_count": 18,
   "metadata": {},
   "outputs": [],
   "source": [
    "f2_scorer = make_scorer(fbeta_score,\n",
    "                          beta=2,\n",
    " greater_is_better = True)\n",
    "param_grid = { \n",
    "    'criterion': ['gini', 'entropy'],\n",
    "    'n_estimators': range(50,150,25),\n",
    "    'max_depth': range(2,20,2),\n",
    "    'max_features': ['sqrt', 'log2'],\n",
    "    'min_samples_leaf': range(1,10,1),\n",
    "    'min_samples_split': range(2,10,1)\n",
    "}"
   ]
  },
  {
   "cell_type": "code",
   "execution_count": 25,
   "metadata": {},
   "outputs": [
    {
     "data": {
      "text/plain": [
       "{'n_estimators': 100,\n",
       " 'min_samples_split': 8,\n",
       " 'min_samples_leaf': 2,\n",
       " 'max_features': 'sqrt',\n",
       " 'max_depth': 16,\n",
       " 'criterion': 'entropy'}"
      ]
     },
     "execution_count": 25,
     "metadata": {},
     "output_type": "execute_result"
    }
   ],
   "source": [
    "rf_rs_f2 = RandomizedSearchCV(estimator=RandomForestClassifier(),\n",
    "                 param_distributions=param_grid,\n",
    "                 n_iter=25,\n",
    "                 scoring=f2_scorer,\n",
    "                 random_state=42)\n",
    "\n",
    "# Perform the hyperparameter tuning with random search\n",
    "rf_rs_f2.fit(X_train_smote, y_train_smote)\n",
    "\n",
    "# List best parameter findings\n",
    "rf_rs_f2.best_params_"
   ]
  },
  {
   "cell_type": "code",
   "execution_count": 26,
   "metadata": {},
   "outputs": [],
   "source": [
    "rf_hyp_opt = RandomForestClassifier(n_estimators=100, min_samples_split= 2, min_samples_leaf= 1, max_features='log2', max_depth=12, criterion='entropy')"
   ]
  },
  {
   "cell_type": "code",
   "execution_count": 27,
   "metadata": {
    "scrolled": true
   },
   "outputs": [
    {
     "name": "stdout",
     "output_type": "stream",
     "text": [
      "Accuracy of Predictions on Training Data: 97.8\n",
      "Accuracy of Predictions on Test Data: 88.59\n",
      "                                 \n",
      "F2 Score for Training Data: 99.1\n",
      "F2 Score for Test Data: 30.86\n",
      "                    \n",
      "Confusion Matrix Numbers for Test Data\n",
      " \n",
      "True Negatives: 1160\n",
      "False Negatives: 24\n",
      "False Positives: 128\n",
      "True Positives: 20\n",
      " \n"
     ]
    },
    {
     "data": {
      "image/png": "[encoded data removed]",
      "text/plain": [
       "<Figure size 432x288 with 2 Axes>"
      ]
     },
     "metadata": {
      "needs_background": "light"
     },
     "output_type": "display_data"
    }
   ],
   "source": [
    "clf(rf_hyp_opt)"
   ]
  }
 ],
 "metadata": {
  "kernelspec": {
   "display_name": "Python (learn-env)",
   "language": "python",
   "name": "learn-env"
  },
  "language_info": {
   "codemirror_mode": {
    "name": "ipython",
    "version": 3
   },
   "file_extension": ".py",
   "mimetype": "text/x-python",
   "name": "python",
   "nbconvert_exporter": "python",
   "pygments_lexer": "ipython3",
   "version": "3.8.5"
  }
 },
 "nbformat": 4,
 "nbformat_minor": 4
}
