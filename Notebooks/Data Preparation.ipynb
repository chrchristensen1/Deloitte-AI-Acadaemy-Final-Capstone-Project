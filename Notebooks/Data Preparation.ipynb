{
 "cells": [
  {
   "cell_type": "code",
   "execution_count": 2,
   "metadata": {},
   "outputs": [],
   "source": [
    "#Importing necessary python libraries\n",
    "import sqlite3\n",
    "import pandas as pd\n",
    "import numpy as np\n",
    "import matplotlib.pyplot as plt\n",
    "%matplotlib inline"
   ]
  },
  {
   "cell_type": "code",
   "execution_count": 23,
   "metadata": {},
   "outputs": [],
   "source": [
    "con = sqlite3.connect(\"../data/2013-2014 NHANES Survey.db\")\n",
    "demo_df = pd.read_sql_query(\"SELECT * From demographic\", con)\n",
    "diet_df = pd.read_sql_query(\"SELECT * From diet\", con)\n",
    "exam_df = pd.read_sql_query(\"SELECT * From examination\", con)\n",
    "labs_df = pd.read_sql_query(\"SELECT * From labs\", con)\n",
    "meds_df = pd.read_sql_query(\"SELECT * From medications\", con)\n",
    "quest_df = pd.read_sql_query(\"SELECT * From questionnaire\", con)\n"
   ]
  },
  {
   "cell_type": "code",
   "execution_count": 178,
   "metadata": {},
   "outputs": [],
   "source": [
    "con2 = sqlite3.connect(\"../data/2013-2014 NHANES Survey Varible Lists.db\")\n",
    "demo_var = pd.read_sql_query(\"SELECT VariableName, VariableDescription, DataFileDescription From demographics_variable_list\", con2)\n",
    "diet_var = pd.read_sql_query(\"SELECT VariableName, VariableDescription, DataFileDescription From dietary_variable_list\", con2)\n",
    "exam_var = pd.read_sql_query(\"SELECT VariableName, VariableDescription, DataFileDescription From examination_variable_list\", con2)\n",
    "labs_var = pd.read_sql_query(\"SELECT VariableName, VariableDescription, DataFileDescription From laboratory_variable_list\", con2)\n",
    "quest_var = pd.read_sql_query(\"SELECT VariableName, VariableDescription, DataFileDescription From questionnaire_variable_list\", con2)\n"
   ]
  },
  {
   "cell_type": "code",
   "execution_count": 109,
   "metadata": {},
   "outputs": [],
   "source": [
    "#Function that easily identifies the description of a specific variable in one of the NHANES DataFrames above.\n",
    "\n",
    "def var_desc(df, var):\n",
    "    \"\"\"This function inputs:\n",
    "    1. A Dataframe from the NHANES survey entered as a string.\n",
    "    2. A variable entered as a string\n",
    "    It then returns the variable's description.\"\"\"\n",
    "    \n",
    "    if df == 'demo_df':\n",
    "        df = demo_var \n",
    "    elif df == 'diet_df':\n",
    "        df = diet_var\n",
    "    elif df == 'exam_df':\n",
    "        df = exam_var\n",
    "    elif df == 'labs_df':\n",
    "        df = labs_var\n",
    "    elif df == 'meds_df':\n",
    "        print('There is no variable information available for Medications')\n",
    "    elif df == 'quest_df':\n",
    "        df = quest_var\n",
    "    else:\n",
    "        print(\"please provide the name of a valid dataframe\")\n",
    "        \n",
    "    desc = df[df.VariableName == var]\n",
    "    return print(desc.VariableDescription[1])\n",
    "    "
   ]
  },
  {
   "cell_type": "code",
   "execution_count": 169,
   "metadata": {},
   "outputs": [],
   "source": [
    "#Dictionary of variable names and descriptions \n",
    "# demo_dict = {}\n",
    "# for A, B in zip(np.array(demo_var.VariableName), np.array(demo_var.VariableDescription)):\n",
    "#     demo_dict[A] = B"
   ]
  },
  {
   "cell_type": "code",
   "execution_count": 180,
   "metadata": {},
   "outputs": [
    {
     "data": {
      "text/html": [
       "<div>\n",
       "<style scoped>\n",
       "    .dataframe tbody tr th:only-of-type {\n",
       "        vertical-align: middle;\n",
       "    }\n",
       "\n",
       "    .dataframe tbody tr th {\n",
       "        vertical-align: top;\n",
       "    }\n",
       "\n",
       "    .dataframe thead th {\n",
       "        text-align: right;\n",
       "    }\n",
       "</style>\n",
       "<table border=\"1\" class=\"dataframe\">\n",
       "  <thead>\n",
       "    <tr style=\"text-align: right;\">\n",
       "      <th></th>\n",
       "      <th>VariableName</th>\n",
       "      <th>VariableDescription</th>\n",
       "      <th>DataFileDescription</th>\n",
       "    </tr>\n",
       "  </thead>\n",
       "  <tbody>\n",
       "    <tr>\n",
       "      <th>0</th>\n",
       "      <td>DLQ010</td>\n",
       "      <td>With this next set of questions, we want to le...</td>\n",
       "      <td>Disability</td>\n",
       "    </tr>\n",
       "    <tr>\n",
       "      <th>1</th>\n",
       "      <td>DLQ020</td>\n",
       "      <td>{Are you/Is SP} blind or {do you/does he/does ...</td>\n",
       "      <td>Disability</td>\n",
       "    </tr>\n",
       "    <tr>\n",
       "      <th>2</th>\n",
       "      <td>DLQ040</td>\n",
       "      <td>Because of a physical, mental, or emotional co...</td>\n",
       "      <td>Disability</td>\n",
       "    </tr>\n",
       "    <tr>\n",
       "      <th>3</th>\n",
       "      <td>DLQ050</td>\n",
       "      <td>{Do you/Does SP} have serious difficulty walki...</td>\n",
       "      <td>Disability</td>\n",
       "    </tr>\n",
       "    <tr>\n",
       "      <th>4</th>\n",
       "      <td>DLQ060</td>\n",
       "      <td>{Do you/Does SP} have difficulty dressing or b...</td>\n",
       "      <td>Disability</td>\n",
       "    </tr>\n",
       "    <tr>\n",
       "      <th>5</th>\n",
       "      <td>DLQ080</td>\n",
       "      <td>Because of a physical, mental, or emotional co...</td>\n",
       "      <td>Disability</td>\n",
       "    </tr>\n",
       "    <tr>\n",
       "      <th>6</th>\n",
       "      <td>SEQN</td>\n",
       "      <td>Respondent sequence number.</td>\n",
       "      <td>Disability</td>\n",
       "    </tr>\n",
       "  </tbody>\n",
       "</table>\n",
       "</div>"
      ],
      "text/plain": [
       "  VariableName                                VariableDescription  \\\n",
       "0       DLQ010  With this next set of questions, we want to le...   \n",
       "1       DLQ020  {Are you/Is SP} blind or {do you/does he/does ...   \n",
       "2       DLQ040  Because of a physical, mental, or emotional co...   \n",
       "3       DLQ050  {Do you/Does SP} have serious difficulty walki...   \n",
       "4       DLQ060  {Do you/Does SP} have difficulty dressing or b...   \n",
       "5       DLQ080  Because of a physical, mental, or emotional co...   \n",
       "6         SEQN                        Respondent sequence number.   \n",
       "\n",
       "  DataFileDescription  \n",
       "0          Disability  \n",
       "1          Disability  \n",
       "2          Disability  \n",
       "3          Disability  \n",
       "4          Disability  \n",
       "5          Disability  \n",
       "6          Disability  "
      ]
     },
     "execution_count": 180,
     "metadata": {},
     "output_type": "execute_result"
    }
   ],
   "source": [
    "quest_var[quest_var.DataFileDescription == \"Disability\"]"
   ]
  },
  {
   "cell_type": "code",
   "execution_count": 104,
   "metadata": {},
   "outputs": [],
   "source": [
    "con.close()\n",
    "con2.close()"
   ]
  }
 ],
 "metadata": {
  "kernelspec": {
   "display_name": "Python 3",
   "language": "python",
   "name": "python3"
  },
  "language_info": {
   "codemirror_mode": {
    "name": "ipython",
    "version": 3
   },
   "file_extension": ".py",
   "mimetype": "text/x-python",
   "name": "python",
   "nbconvert_exporter": "python",
   "pygments_lexer": "ipython3",
   "version": "3.8.5"
  }
 },
 "nbformat": 4,
 "nbformat_minor": 4
}
