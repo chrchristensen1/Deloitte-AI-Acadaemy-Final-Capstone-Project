{
 "cells": [
  {
   "cell_type": "code",
   "execution_count": 8,
   "metadata": {},
   "outputs": [],
   "source": [
    "#Importing necessary python libraries\n",
    "import sqlite3\n",
    "import pandas as pd\n",
    "import numpy as np"
   ]
  },
  {
   "cell_type": "code",
   "execution_count": 9,
   "metadata": {},
   "outputs": [
    {
     "data": {
      "text/html": [
       "<div>\n",
       "<style scoped>\n",
       "    .dataframe tbody tr th:only-of-type {\n",
       "        vertical-align: middle;\n",
       "    }\n",
       "\n",
       "    .dataframe tbody tr th {\n",
       "        vertical-align: top;\n",
       "    }\n",
       "\n",
       "    .dataframe thead th {\n",
       "        text-align: right;\n",
       "    }\n",
       "</style>\n",
       "<table border=\"1\" class=\"dataframe\">\n",
       "  <thead>\n",
       "    <tr style=\"text-align: right;\">\n",
       "      <th></th>\n",
       "      <th>VariableName</th>\n",
       "      <th>VariableDescription</th>\n",
       "      <th>DataFileDescription</th>\n",
       "      <th>Component</th>\n",
       "    </tr>\n",
       "  </thead>\n",
       "  <tbody>\n",
       "    <tr>\n",
       "      <th>0</th>\n",
       "      <td>AIALANGA</td>\n",
       "      <td>Language of the MEC ACASI Interview Instrument</td>\n",
       "      <td>Demographic Variables and Sample Weights</td>\n",
       "      <td>Demographics</td>\n",
       "    </tr>\n",
       "    <tr>\n",
       "      <th>1</th>\n",
       "      <td>DMDBORN4</td>\n",
       "      <td>In what country {were you/was SP} born?</td>\n",
       "      <td>Demographic Variables and Sample Weights</td>\n",
       "      <td>Demographics</td>\n",
       "    </tr>\n",
       "    <tr>\n",
       "      <th>2</th>\n",
       "      <td>DMDCITZN</td>\n",
       "      <td>{Are you/Is SP} a citizen of the United States...</td>\n",
       "      <td>Demographic Variables and Sample Weights</td>\n",
       "      <td>Demographics</td>\n",
       "    </tr>\n",
       "    <tr>\n",
       "      <th>3</th>\n",
       "      <td>DMDEDUC2</td>\n",
       "      <td>What is the highest grade or level of school {...</td>\n",
       "      <td>Demographic Variables and Sample Weights</td>\n",
       "      <td>Demographics</td>\n",
       "    </tr>\n",
       "    <tr>\n",
       "      <th>4</th>\n",
       "      <td>DMDEDUC3</td>\n",
       "      <td>What is the highest grade or level of school {...</td>\n",
       "      <td>Demographic Variables and Sample Weights</td>\n",
       "      <td>Demographics</td>\n",
       "    </tr>\n",
       "  </tbody>\n",
       "</table>\n",
       "</div>"
      ],
      "text/plain": [
       "  VariableName                                VariableDescription  \\\n",
       "0     AIALANGA     Language of the MEC ACASI Interview Instrument   \n",
       "1     DMDBORN4            In what country {were you/was SP} born?   \n",
       "2     DMDCITZN  {Are you/Is SP} a citizen of the United States...   \n",
       "3     DMDEDUC2  What is the highest grade or level of school {...   \n",
       "4     DMDEDUC3  What is the highest grade or level of school {...   \n",
       "\n",
       "                        DataFileDescription     Component  \n",
       "0  Demographic Variables and Sample Weights  Demographics  \n",
       "1  Demographic Variables and Sample Weights  Demographics  \n",
       "2  Demographic Variables and Sample Weights  Demographics  \n",
       "3  Demographic Variables and Sample Weights  Demographics  \n",
       "4  Demographic Variables and Sample Weights  Demographics  "
      ]
     },
     "execution_count": 9,
     "metadata": {},
     "output_type": "execute_result"
    }
   ],
   "source": [
    "#Connect to SQLite NHANES Variable Names DB and read in variable name discriptions\n",
    "con = sqlite3.connect(\"../data/NHANES SQLite DBs/2013-2014 NHANES Survey Varible Lists.db\")\n",
    "\n",
    "query2 = \"\"\"\n",
    "SELECT VariableName, VariableDescription, DataFileDescription, Component\n",
    "FROM demographics_variable_list\n",
    "UNION ALL\n",
    "SELECT VariableName, VariableDescription, DataFileDescription, Component \n",
    "FROM examination_variable_list\n",
    "UNION ALL\n",
    "SELECT VariableName, VariableDescription, DataFileDescription, Component \n",
    "FROM laboratory_variable_list\n",
    "UNION ALL\n",
    "SELECT VariableName, VariableDescription, DataFileDescription, Component\n",
    "FROM questionnaire_variable_list\n",
    ";\n",
    "\"\"\"\n",
    "var_df = pd.read_sql_query(query2, con)\n",
    "var_df.head()"
   ]
  },
  {
   "cell_type": "code",
   "execution_count": 10,
   "metadata": {},
   "outputs": [],
   "source": [
    "#Function that easily identifies the description of a specific variable in one of the NHANES DataFrames above.\n",
    "def var_desc(var_name):\n",
    "    \"\"\"\n",
    "    This funtions takes in a variable name \n",
    "    from the NHANES survey data and returns \n",
    "    the variable's description. \n",
    "    The variable must be entered as a string.\n",
    "    \n",
    "    \"\"\"\n",
    "    df = desc = var_df[var_df['VariableName'] == var_name]\n",
    "    comp = df.Component.iloc[0]\n",
    "    desc = df.VariableDescription.iloc[0]\n",
    "    print(f'Table: {comp}')\n",
    "    print(f'Variable Description: \"{desc}\"')\n"
   ]
  },
  {
   "cell_type": "code",
   "execution_count": 11,
   "metadata": {},
   "outputs": [
    {
     "ename": "NameError",
     "evalue": "name 'AIALANGA' is not defined",
     "output_type": "error",
     "traceback": [
      "\u001b[1;31m---------------------------------------------------------------------------\u001b[0m",
      "\u001b[1;31mNameError\u001b[0m                                 Traceback (most recent call last)",
      "\u001b[1;32m<ipython-input-11-781b6a7915c3>\u001b[0m in \u001b[0;36m<module>\u001b[1;34m\u001b[0m\n\u001b[0;32m      1\u001b[0m \u001b[1;31m#Test Function\u001b[0m\u001b[1;33m\u001b[0m\u001b[1;33m\u001b[0m\u001b[1;33m\u001b[0m\u001b[0m\n\u001b[1;32m----> 2\u001b[1;33m \u001b[0mvar_desc\u001b[0m\u001b[1;33m(\u001b[0m\u001b[0mAIALANGA\u001b[0m\u001b[1;33m)\u001b[0m\u001b[1;33m\u001b[0m\u001b[1;33m\u001b[0m\u001b[0m\n\u001b[0m",
      "\u001b[1;31mNameError\u001b[0m: name 'AIALANGA' is not defined"
     ]
    }
   ],
   "source": [
    "#Test Function\n",
    "var_desc(AIALANGA)"
   ]
  },
  {
   "cell_type": "code",
   "execution_count": 7,
   "metadata": {},
   "outputs": [],
   "source": [
    "#Close SQLite DB connections\n",
    "con.close()"
   ]
  }
 ],
 "metadata": {
  "kernelspec": {
   "display_name": "Python (learn-env)",
   "language": "python",
   "name": "learn-env"
  },
  "language_info": {
   "codemirror_mode": {
    "name": "ipython",
    "version": 3
   },
   "file_extension": ".py",
   "mimetype": "text/x-python",
   "name": "python",
   "nbconvert_exporter": "python",
   "pygments_lexer": "ipython3",
   "version": "3.8.5"
  }
 },
 "nbformat": 4,
 "nbformat_minor": 4
}
